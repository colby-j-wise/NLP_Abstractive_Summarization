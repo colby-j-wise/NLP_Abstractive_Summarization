{
 "cells": [
  {
   "cell_type": "markdown",
   "metadata": {},
   "source": [
    "# Abstractive Summarization\n",
    "### Sequence to Sequence models with Attention"
   ]
  },
  {
   "cell_type": "markdown",
   "metadata": {},
   "source": [
    "This project explores the problem of summarization using a sequence to sequence model. In a sequence to sequence problem there is an encoder and a decoder. In this example I feed the sequence of word embeddings to an encoder and train decoder to learn the summaries. We explore two architectures: Encoder-Decoder without an Attention layer and an Encoder-Decoder with custom Attention layer.\n",
    "\n",
    "Note the source of the Attention layer is: http://www.cs.columbia.edu/~kathy/"
   ]
  },
  {
   "cell_type": "markdown",
   "metadata": {},
   "source": [
    " __References:__\n",
    "1. *A Neural Attention Model for Abstractive Sentence Summarization* (Rush, et. al., 2015)\n",
    "2. *Addressing the Rare Word Problem in Neural Machine Translation* (Sutskever†, et. al., 2014)\n",
    "3. https://machinelearningmastery.com/encoder-decoder-models-text-summarization-keras/\n",
    "4. http://pavel.surmenok.com/2016/10/15/how-to-run-text-summarization-with-tensorflow/"
   ]
  },
  {
   "cell_type": "markdown",
   "metadata": {},
   "source": [
    "# Environment"
   ]
  },
  {
   "cell_type": "markdown",
   "metadata": {},
   "source": [
    "__Built using:__\n",
    "1. Keras 2.0.8\n",
    "2. TensorFlow 1.4.0 GPU\n",
    "\n",
    "__Trained using:__\n",
    "1. Google Cloud Virtual Machine\n",
    "2. 8 CPU | 5 GB Memory | 1 Tesla K80 GPU\n",
    "3. Unbuntu 16+"
   ]
  },
  {
   "cell_type": "markdown",
   "metadata": {},
   "source": [
    "# Data Preprocessing"
   ]
  },
  {
   "cell_type": "markdown",
   "metadata": {},
   "source": [
    "__Note:__ The data for this project was proprietary and thus is not included in the repo. That said, to replicate results you can use news article summary pairs as obtained from the *Linguistic Data Consortium* (LDC)"
   ]
  },
  {
   "cell_type": "markdown",
   "metadata": {},
   "source": [
    "First we prepare the data. Given training data in say train_article.txt, in which each line is the first sentence from an article, and training summary sentences in train_title.txt, which are the corresponding titles of the article. Note I limit the maximum vocabulary size to 20000 and maximum length of article based on the max article in training corpus. This requires padding of shorter articles and truncating others. "
   ]
  },
  {
   "cell_type": "code",
   "execution_count": 1,
   "metadata": {},
   "outputs": [
    {
     "name": "stderr",
     "output_type": "stream",
     "text": [
      "Using TensorFlow backend.\n"
     ]
    }
   ],
   "source": [
    "from keras.preprocessing.sequence import pad_sequences\n",
    "from keras.preprocessing.text import text_to_word_sequence\n",
    "\n",
    "from collections import Counter\n",
    "import numpy as np\n",
    "import re "
   ]
  },
  {
   "cell_type": "code",
   "execution_count": 2,
   "metadata": {
    "collapsed": true
   },
   "outputs": [],
   "source": [
    "\"\"\"\n",
    "The function load_data() reads in the data and truncates/pads according. \n",
    "Additionally it creates dictionaries out of both the articles and \n",
    "summaries which will be key to decoding the embedded predictions \n",
    "during the inference steps.\n",
    "\"\"\"\n",
    "\n",
    "def load_data(article, summary, vocab_size, max_len=None):\n",
    "    raw_articles = []\n",
    "    with open(article) as arts:\n",
    "        counter = Counter()\n",
    "        for line in arts:\n",
    "            words = text_to_word_sequence(line)\n",
    "            counter.update(words)\n",
    "            raw_articles.append(words) \n",
    "        X_idx2word = [word[0] for word in counter.most_common(vocab_size)]\n",
    "        X_idx2word.insert(0, 'ZERO')\n",
    "        X_idx2word.append('UNK')\n",
    "        X_vocab_len = len(X_idx2word)\n",
    "        X_word2idx = {i:x for x,i in enumerate(X_idx2word)}\n",
    "        if max_len is not None:\n",
    "            X_max_len = max_len\n",
    "        else:\n",
    "            X_max_len = max([len(txt) for txt in raw_articles])\n",
    "        defaultKey1 = X_word2idx.get('UNK')\n",
    "        for lst in raw_articles:\n",
    "            for idx, word in enumerate(lst):\n",
    "                lst[idx] = X_word2idx.get(word, defaultKey1)\n",
    "        transformed_articles = np.array(pad_sequences(raw_articles, value=0, maxlen=X_max_len))\n",
    "        \n",
    "    raw_summaries = []\n",
    "    with open(summary) as sums:\n",
    "        counter = Counter()\n",
    "        for line in sums:\n",
    "            words = text_to_word_sequence(line)\n",
    "            counter.update(words)\n",
    "            raw_summaries.append(words)\n",
    "        y_idx2word = [word[0] for word in counter.most_common(vocab_size)]\n",
    "        y_idx2word.insert(0, 'ZERO')\n",
    "        y_idx2word.append('UNK')\n",
    "        y_word2idx = {i:x for x,i in enumerate(y_idx2word)}\n",
    "        y_vocab_len = len(y_word2idx)\n",
    "        if max_len is not None:\n",
    "            y_max_len = max_len\n",
    "        else:\n",
    "            y_max_len = max([len(txt) for txt in raw_summaries])\n",
    "        defaultKey2 = y_word2idx.get('UNK')\n",
    "        for lst in raw_summaries:\n",
    "            for idx, word in enumerate(lst):\n",
    "                lst[idx] = y_word2idx.get(word, defaultKey2)\n",
    "        transformed_summaries = np.array(pad_sequences(raw_summaries, value=0, maxlen=y_max_len))\n",
    "\n",
    "        \n",
    "    return X_vocab_len, X_idx2word, X_word2idx, \\\n",
    "        y_vocab_len, y_idx2word, y_word2idx, \\\n",
    "        transformed_articles, transformed_summaries, X_max_len, y_max_len \n",
    "        \n"
   ]
  },
  {
   "cell_type": "markdown",
   "metadata": {},
   "source": [
    "Now use the above function to load the training data from article and summary (i.e. title)"
   ]
  },
  {
   "cell_type": "code",
   "execution_count": 8,
   "metadata": {
    "collapsed": true
   },
   "outputs": [],
   "source": [
    "article = \"data/train_article.txt\"\n",
    "summary = \"data/train_title.txt\" \n",
    "vocab_size = 20000\n",
    "\n",
    "X_vocab_len, X_idx2word, X_word2idx, y_vocab_len, \\\n",
    "y_idx2word, y_word2idx, X_train_data, y_train_data, \\\n",
    "X_max_len, y_max_len = load_data(article, summary, vocab_size, max_len=20)\n"
   ]
  },
  {
   "cell_type": "markdown",
   "metadata": {},
   "source": [
    "# Arichtecture 1: LSTM Encoder Decoder "
   ]
  },
  {
   "cell_type": "markdown",
   "metadata": {},
   "source": [
    "Define the parameters for your LSTM encoder decoder model. "
   ]
  },
  {
   "cell_type": "code",
   "execution_count": 9,
   "metadata": {
    "collapsed": true
   },
   "outputs": [],
   "source": [
    "BATCH_SIZE = 500\n",
    "NUM_LAYERS = 2\n",
    "HIDDEN_DIM = 512\n",
    "EPOCHS = 150"
   ]
  },
  {
   "cell_type": "markdown",
   "metadata": {},
   "source": [
    "Create a Unidirectional encoder decoder LSTM model in create_model function. The model should have a LSTM Unidirectional layer as encoder and a LSTM decoder.\n",
    "Use categorical_cross_entropy loss and experiment with different optimizers to improve your score."
   ]
  },
  {
   "cell_type": "code",
   "execution_count": 6,
   "metadata": {
    "collapsed": true
   },
   "outputs": [],
   "source": [
    "from keras.models import Model\n",
    "from keras.layers import Input, LSTM, Dense, Embedding, RepeatVector, TimeDistributed, Activation, Dropout, Bidirectional\n",
    "from keras.models import Sequential\n",
    "\n",
    "def create_UniLSTM(X_vocab_len, X_max_len, y_vocab_len, y_max_len, hidden_size, num_layers):\n",
    "    \n",
    "    model = Sequential()\n",
    "    model.add(Embedding(X_vocab_len, hidden_size, input_length = X_max_len,  mask_zero=True))\n",
    "    model.add(Bidirectional(LSTM(hidden_size, dropout=0.2, recurrent_dropout=0.3)))\n",
    "    model.add(RepeatVector(y_max_len))\n",
    "    for _ in range(num_layers):\n",
    "        model.add(Bidirectional(LSTM(hidden_size, return_sequences=True, recurrent_dropout=0.2)))\n",
    "    model.add(TimeDistributed(Dense(y_vocab_len)))\n",
    "    model.add(Activation('softmax'))\n",
    "        \n",
    "    model.compile(loss='sparse_categorical_crossentropy', \n",
    "                      optimizer='Adam', \n",
    "                      metrics=['accuracy'])\n",
    "    print(model.summary())\n",
    "    return model"
   ]
  },
  {
   "cell_type": "markdown",
   "metadata": {},
   "source": [
    "### Train the Model"
   ]
  },
  {
   "cell_type": "markdown",
   "metadata": {},
   "source": [
    "Note training process below periodically saves the learned weights. The training process is very long even using GPU (see __settings__)"
   ]
  },
  {
   "cell_type": "code",
   "execution_count": 13,
   "metadata": {},
   "outputs": [
    {
     "name": "stdout",
     "output_type": "stream",
     "text": [
      "_________________________________________________________________\n",
      "Layer (type)                 Output Shape              Param #   \n",
      "=================================================================\n",
      "embedding_3 (Embedding)      (None, 20, 512)           10241024  \n",
      "_________________________________________________________________\n",
      "bidirectional_7 (Bidirection (None, 1024)              4198400   \n",
      "_________________________________________________________________\n",
      "repeat_vector_3 (RepeatVecto (None, 20, 1024)          0         \n",
      "_________________________________________________________________\n",
      "bidirectional_8 (Bidirection (None, 20, 1024)          6295552   \n",
      "_________________________________________________________________\n",
      "bidirectional_9 (Bidirection (None, 20, 1024)          6295552   \n",
      "_________________________________________________________________\n",
      "time_distributed_3 (TimeDist (None, 20, 20002)         20502050  \n",
      "_________________________________________________________________\n",
      "activation_3 (Activation)    (None, 20, 20002)         0         \n",
      "=================================================================\n",
      "Total params: 47,532,578\n",
      "Trainable params: 47,532,578\n",
      "Non-trainable params: 0\n",
      "_________________________________________________________________\n",
      "None\n",
      "Train...\n",
      "Epoch 1/150\n",
      "49500/50000 [============================>.] - ETA: 2s - loss: 3.5405 - acc: 0.6291Epoch 00000: acc improved from -inf to 0.62919, saving model to data/weights/__weights-improvement-00-0.63.h5\n",
      "50000/50000 [==============================] - 228s - loss: 3.5362 - acc: 0.6292   \n",
      "Epoch 2/150\n",
      "49500/50000 [============================>.] - ETA: 2s - loss: 3.0903 - acc: 0.6391Epoch 00001: acc improved from 0.62919 to 0.63920, saving model to data/weights/__weights-improvement-01-0.64.h5\n",
      "50000/50000 [==============================] - 225s - loss: 3.0889 - acc: 0.6392   \n",
      "Epoch 3/150\n",
      "49500/50000 [============================>.] - ETA: 2s - loss: 3.0700 - acc: 0.6396Epoch 00002: acc improved from 0.63920 to 0.63969, saving model to data/weights/__weights-improvement-02-0.64.h5\n",
      "50000/50000 [==============================] - 225s - loss: 3.0694 - acc: 0.6397   \n",
      "Epoch 4/150\n",
      "49500/50000 [============================>.] - ETA: 2s - loss: 3.0557 - acc: 0.6393Epoch 00003: acc did not improve\n",
      "50000/50000 [==============================] - 225s - loss: 3.0558 - acc: 0.6394   \n",
      "Epoch 5/150\n",
      "49500/50000 [============================>.] - ETA: 2s - loss: 3.0077 - acc: 0.6423Epoch 00004: acc improved from 0.63969 to 0.64238, saving model to data/weights/__weights-improvement-04-0.64.h5\n",
      "50000/50000 [==============================] - 225s - loss: 3.0064 - acc: 0.6424   \n",
      "Epoch 6/150\n",
      "49500/50000 [============================>.] - ETA: 2s - loss: 2.9340 - acc: 0.6440Epoch 00005: acc improved from 0.64238 to 0.64394, saving model to data/weights/__weights-improvement-05-0.64.h5\n",
      "50000/50000 [==============================] - 225s - loss: 2.9341 - acc: 0.6439   \n",
      "Epoch 7/150\n",
      "49500/50000 [============================>.] - ETA: 2s - loss: 2.8942 - acc: 0.6449Epoch 00006: acc improved from 0.64394 to 0.64484, saving model to data/weights/__weights-improvement-06-0.64.h5\n",
      "50000/50000 [==============================] - 225s - loss: 2.8948 - acc: 0.6448   \n",
      "Epoch 8/150\n",
      "49500/50000 [============================>.] - ETA: 2s - loss: 2.8652 - acc: 0.6455Epoch 00007: acc improved from 0.64484 to 0.64549, saving model to data/weights/__weights-improvement-07-0.65.h5\n",
      "50000/50000 [==============================] - 225s - loss: 2.8652 - acc: 0.6455   \n",
      "Epoch 9/150\n",
      "49500/50000 [============================>.] - ETA: 2s - loss: 2.8332 - acc: 0.6466Epoch 00008: acc improved from 0.64549 to 0.64646, saving model to data/weights/__weights-improvement-08-0.65.h5\n",
      "50000/50000 [==============================] - 225s - loss: 2.8343 - acc: 0.6465   \n",
      "Epoch 10/150\n",
      "49500/50000 [============================>.] - ETA: 2s - loss: 2.7998 - acc: 0.6477Epoch 00009: acc improved from 0.64646 to 0.64769, saving model to data/weights/__weights-improvement-09-0.65.h5\n",
      "50000/50000 [==============================] - 224s - loss: 2.7998 - acc: 0.6477   \n",
      "Epoch 11/150\n",
      "49500/50000 [============================>.] - ETA: 2s - loss: 2.7657 - acc: 0.6488Epoch 00010: acc improved from 0.64769 to 0.64876, saving model to data/weights/__weights-improvement-10-0.65.h5\n",
      "50000/50000 [==============================] - 224s - loss: 2.7655 - acc: 0.6488   \n",
      "Epoch 12/150\n",
      "49500/50000 [============================>.] - ETA: 2s - loss: 2.7346 - acc: 0.6497Epoch 00011: acc improved from 0.64876 to 0.64974, saving model to data/weights/__weights-improvement-11-0.65.h5\n",
      "50000/50000 [==============================] - 225s - loss: 2.7343 - acc: 0.6497   \n",
      "Epoch 13/150\n",
      "49500/50000 [============================>.] - ETA: 2s - loss: 2.7059 - acc: 0.6505Epoch 00012: acc improved from 0.64974 to 0.65062, saving model to data/weights/__weights-improvement-12-0.65.h5\n",
      "50000/50000 [==============================] - 224s - loss: 2.7051 - acc: 0.6506   \n",
      "Epoch 14/150\n",
      "49500/50000 [============================>.] - ETA: 2s - loss: 2.6752 - acc: 0.6517Epoch 00013: acc improved from 0.65062 to 0.65154, saving model to data/weights/__weights-improvement-13-0.65.h5\n",
      "50000/50000 [==============================] - 224s - loss: 2.6765 - acc: 0.6515   \n",
      "Epoch 15/150\n",
      "49500/50000 [============================>.] - ETA: 2s - loss: 2.6489 - acc: 0.6523Epoch 00014: acc improved from 0.65154 to 0.65230, saving model to data/weights/__weights-improvement-14-0.65.h5\n",
      "50000/50000 [==============================] - 224s - loss: 2.6489 - acc: 0.6523   \n",
      "Epoch 16/150\n",
      "49500/50000 [============================>.] - ETA: 2s - loss: 2.6208 - acc: 0.6530Epoch 00015: acc improved from 0.65230 to 0.65301, saving model to data/weights/__weights-improvement-15-0.65.h5\n",
      "50000/50000 [==============================] - 224s - loss: 2.6207 - acc: 0.6530   \n",
      "Epoch 17/150\n",
      "49500/50000 [============================>.] - ETA: 2s - loss: 2.5889 - acc: 0.6539Epoch 00016: acc improved from 0.65301 to 0.65393, saving model to data/weights/__weights-improvement-16-0.65.h5\n",
      "50000/50000 [==============================] - 224s - loss: 2.5888 - acc: 0.6539   \n",
      "Epoch 18/150\n",
      "49500/50000 [============================>.] - ETA: 2s - loss: 2.5551 - acc: 0.6551Epoch 00017: acc improved from 0.65393 to 0.65500, saving model to data/weights/__weights-improvement-17-0.66.h5\n",
      "50000/50000 [==============================] - 225s - loss: 2.5562 - acc: 0.6550   \n",
      "Epoch 19/150\n",
      "49500/50000 [============================>.] - ETA: 2s - loss: 2.5201 - acc: 0.6559Epoch 00018: acc improved from 0.65500 to 0.65584, saving model to data/weights/__weights-improvement-18-0.66.h5\n",
      "50000/50000 [==============================] - 225s - loss: 2.5208 - acc: 0.6558   \n",
      "Epoch 20/150\n",
      "49500/50000 [============================>.] - ETA: 2s - loss: 2.4847 - acc: 0.6570Epoch 00019: acc improved from 0.65584 to 0.65692, saving model to data/weights/__weights-improvement-19-0.66.h5\n",
      "50000/50000 [==============================] - 224s - loss: 2.4857 - acc: 0.6569   \n",
      "Epoch 21/150\n",
      "49500/50000 [============================>.] - ETA: 2s - loss: 2.4535 - acc: 0.6575Epoch 00020: acc improved from 0.65692 to 0.65758, saving model to data/weights/__weights-improvement-20-0.66.h5\n",
      "50000/50000 [==============================] - 224s - loss: 2.4530 - acc: 0.6576   \n",
      "Epoch 22/150\n",
      "49500/50000 [============================>.] - ETA: 2s - loss: 2.4220 - acc: 0.6586Epoch 00021: acc improved from 0.65758 to 0.65870, saving model to data/weights/__weights-improvement-21-0.66.h5\n",
      "50000/50000 [==============================] - 224s - loss: 2.4214 - acc: 0.6587   \n",
      "Epoch 23/150\n",
      "49500/50000 [============================>.] - ETA: 2s - loss: 2.3876 - acc: 0.6594Epoch 00022: acc improved from 0.65870 to 0.65939, saving model to data/weights/__weights-improvement-22-0.66.h5\n",
      "50000/50000 [==============================] - 224s - loss: 2.3880 - acc: 0.6594   \n",
      "Epoch 24/150\n",
      "49500/50000 [============================>.] - ETA: 2s - loss: 2.3613 - acc: 0.6602Epoch 00023: acc improved from 0.65939 to 0.66019, saving model to data/weights/__weights-improvement-23-0.66.h5\n",
      "50000/50000 [==============================] - 224s - loss: 2.3614 - acc: 0.6602   \n",
      "Epoch 25/150\n",
      "49500/50000 [============================>.] - ETA: 2s - loss: 2.3326 - acc: 0.6611Epoch 00024: acc improved from 0.66019 to 0.66113, saving model to data/weights/__weights-improvement-24-0.66.h5\n",
      "50000/50000 [==============================] - 224s - loss: 2.3322 - acc: 0.6611   \n",
      "Epoch 26/150\n",
      "49500/50000 [============================>.] - ETA: 2s - loss: 2.3050 - acc: 0.6621Epoch 00025: acc improved from 0.66113 to 0.66197, saving model to data/weights/__weights-improvement-25-0.66.h5\n",
      "50000/50000 [==============================] - 224s - loss: 2.3059 - acc: 0.6620   \n",
      "Epoch 27/150\n",
      "49500/50000 [============================>.] - ETA: 2s - loss: 2.2801 - acc: 0.6626Epoch 00026: acc improved from 0.66197 to 0.66259, saving model to data/weights/__weights-improvement-26-0.66.h5\n",
      "50000/50000 [==============================] - 224s - loss: 2.2809 - acc: 0.6626   \n",
      "Epoch 28/150\n",
      "49500/50000 [============================>.] - ETA: 2s - loss: 2.2553 - acc: 0.6635Epoch 00027: acc improved from 0.66259 to 0.66353, saving model to data/weights/__weights-improvement-27-0.66.h5\n",
      "50000/50000 [==============================] - 223s - loss: 2.2553 - acc: 0.6635   \n",
      "Epoch 29/150\n",
      "49500/50000 [============================>.] - ETA: 2s - loss: 2.2283 - acc: 0.6643Epoch 00028: acc improved from 0.66353 to 0.66422, saving model to data/weights/__weights-improvement-28-0.66.h5\n",
      "50000/50000 [==============================] - 223s - loss: 2.2288 - acc: 0.6642   \n",
      "Epoch 30/150\n",
      "49500/50000 [============================>.] - ETA: 2s - loss: 2.2040 - acc: 0.6650Epoch 00029: acc improved from 0.66422 to 0.66497, saving model to data/weights/__weights-improvement-29-0.66.h5\n",
      "50000/50000 [==============================] - 224s - loss: 2.2039 - acc: 0.6650   \n",
      "Epoch 31/150\n",
      "49500/50000 [============================>.] - ETA: 2s - loss: 2.1820 - acc: 0.6657Epoch 00030: acc improved from 0.66497 to 0.66574, saving model to data/weights/__weights-improvement-30-0.67.h5\n",
      "50000/50000 [==============================] - 224s - loss: 2.1818 - acc: 0.6657   \n",
      "Epoch 32/150\n",
      "49500/50000 [============================>.] - ETA: 2s - loss: 2.1589 - acc: 0.6663Epoch 00031: acc improved from 0.66574 to 0.66634, saving model to data/weights/__weights-improvement-31-0.67.h5\n",
      "50000/50000 [==============================] - 223s - loss: 2.1588 - acc: 0.6663   \n",
      "Epoch 33/150\n",
      "49500/50000 [============================>.] - ETA: 2s - loss: 2.1343 - acc: 0.6673Epoch 00032: acc improved from 0.66634 to 0.66725, saving model to data/weights/__weights-improvement-32-0.67.h5\n",
      "50000/50000 [==============================] - 224s - loss: 2.1348 - acc: 0.6672   \n",
      "Epoch 34/150\n",
      "49500/50000 [============================>.] - ETA: 2s - loss: 2.1117 - acc: 0.6680Epoch 00033: acc improved from 0.66725 to 0.66805, saving model to data/weights/__weights-improvement-33-0.67.h5\n",
      "50000/50000 [==============================] - 224s - loss: 2.1114 - acc: 0.6680   \n",
      "Epoch 35/150\n",
      "49500/50000 [============================>.] - ETA: 2s - loss: 2.0896 - acc: 0.6688Epoch 00034: acc improved from 0.66805 to 0.66880, saving model to data/weights/__weights-improvement-34-0.67.h5\n",
      "50000/50000 [==============================] - 224s - loss: 2.0894 - acc: 0.6688   \n",
      "Epoch 36/150\n",
      "49500/50000 [============================>.] - ETA: 2s - loss: 2.0687 - acc: 0.6696Epoch 00035: acc improved from 0.66880 to 0.66965, saving model to data/weights/__weights-improvement-35-0.67.h5\n",
      "50000/50000 [==============================] - 223s - loss: 2.0688 - acc: 0.6697   \n",
      "Epoch 37/150\n",
      "49500/50000 [============================>.] - ETA: 2s - loss: 2.0464 - acc: 0.6707Epoch 00036: acc improved from 0.66965 to 0.67061, saving model to data/weights/__weights-improvement-36-0.67.h5\n",
      "50000/50000 [==============================] - 223s - loss: 2.0470 - acc: 0.6706   \n",
      "Epoch 38/150\n",
      "49500/50000 [============================>.] - ETA: 2s - loss: 2.0232 - acc: 0.6718Epoch 00037: acc improved from 0.67061 to 0.67165, saving model to data/weights/__weights-improvement-37-0.67.h5\n",
      "50000/50000 [==============================] - 224s - loss: 2.0237 - acc: 0.6717   \n",
      "Epoch 39/150\n",
      "49500/50000 [============================>.] - ETA: 2s - loss: 2.0030 - acc: 0.6726Epoch 00038: acc improved from 0.67165 to 0.67263, saving model to data/weights/__weights-improvement-38-0.67.h5\n",
      "50000/50000 [==============================] - 223s - loss: 2.0031 - acc: 0.6726   \n",
      "Epoch 40/150\n",
      "49500/50000 [============================>.] - ETA: 2s - loss: 1.9837 - acc: 0.6736Epoch 00039: acc improved from 0.67263 to 0.67367, saving model to data/weights/__weights-improvement-39-0.67.h5\n",
      "50000/50000 [==============================] - 224s - loss: 1.9836 - acc: 0.6737   \n",
      "Epoch 41/150\n",
      "49500/50000 [============================>.] - ETA: 2s - loss: 1.9601 - acc: 0.6749Epoch 00040: acc improved from 0.67367 to 0.67494, saving model to data/weights/__weights-improvement-40-0.67.h5\n",
      "50000/50000 [==============================] - 223s - loss: 1.9604 - acc: 0.6749   \n",
      "Epoch 42/150\n",
      "49500/50000 [============================>.] - ETA: 2s - loss: 1.9391 - acc: 0.6761Epoch 00041: acc improved from 0.67494 to 0.67609, saving model to data/weights/__weights-improvement-41-0.68.h5\n",
      "50000/50000 [==============================] - 223s - loss: 1.9392 - acc: 0.6761   \n",
      "Epoch 43/150\n",
      "49500/50000 [============================>.] - ETA: 2s - loss: 1.9157 - acc: 0.6780Epoch 00042: acc improved from 0.67609 to 0.67791, saving model to data/weights/__weights-improvement-42-0.68.h5\n",
      "50000/50000 [==============================] - 224s - loss: 1.9167 - acc: 0.6779   \n",
      "Epoch 44/150\n",
      "49500/50000 [============================>.] - ETA: 2s - loss: 1.8983 - acc: 0.6791Epoch 00043: acc improved from 0.67791 to 0.67910, saving model to data/weights/__weights-improvement-43-0.68.h5\n",
      "50000/50000 [==============================] - 223s - loss: 1.8980 - acc: 0.6791   \n",
      "Epoch 45/150\n",
      "49500/50000 [============================>.] - ETA: 2s - loss: 1.8793 - acc: 0.6804Epoch 00044: acc improved from 0.67910 to 0.68045, saving model to data/weights/__weights-improvement-44-0.68.h5\n",
      "50000/50000 [==============================] - 223s - loss: 1.8788 - acc: 0.6804   \n",
      "Epoch 46/150\n",
      "49500/50000 [============================>.] - ETA: 2s - loss: 1.8581 - acc: 0.6821Epoch 00045: acc improved from 0.68045 to 0.68198, saving model to data/weights/__weights-improvement-45-0.68.h5\n",
      "50000/50000 [==============================] - 223s - loss: 1.8590 - acc: 0.6820   \n",
      "Epoch 47/150\n",
      "49500/50000 [============================>.] - ETA: 2s - loss: 1.8405 - acc: 0.6834Epoch 00046: acc improved from 0.68198 to 0.68335, saving model to data/weights/__weights-improvement-46-0.68.h5\n",
      "50000/50000 [==============================] - 223s - loss: 1.8407 - acc: 0.6834   \n",
      "Epoch 48/150\n",
      "49500/50000 [============================>.] - ETA: 2s - loss: 1.8194 - acc: 0.6849Epoch 00047: acc improved from 0.68335 to 0.68486, saving model to data/weights/__weights-improvement-47-0.68.h5\n",
      "50000/50000 [==============================] - 223s - loss: 1.8196 - acc: 0.6849   \n",
      "Epoch 49/150\n",
      "49500/50000 [============================>.] - ETA: 2s - loss: 1.8004 - acc: 0.6871Epoch 00048: acc improved from 0.68486 to 0.68712, saving model to data/weights/__weights-improvement-48-0.69.h5\n",
      "50000/50000 [==============================] - 223s - loss: 1.8005 - acc: 0.6871   \n",
      "Epoch 50/150\n",
      "49500/50000 [============================>.] - ETA: 2s - loss: 1.7829 - acc: 0.6885Epoch 00049: acc improved from 0.68712 to 0.68850, saving model to data/weights/__weights-improvement-49-0.69.h5\n",
      "50000/50000 [==============================] - 223s - loss: 1.7827 - acc: 0.6885   \n",
      "Epoch 51/150\n",
      "49500/50000 [============================>.] - ETA: 2s - loss: 1.7630 - acc: 0.6903Epoch 00050: acc improved from 0.68850 to 0.69028, saving model to data/weights/__weights-improvement-50-0.69.h5\n",
      "50000/50000 [==============================] - 223s - loss: 1.7633 - acc: 0.6903   \n",
      "Epoch 52/150\n",
      "49500/50000 [============================>.] - ETA: 2s - loss: 1.7438 - acc: 0.6922Epoch 00051: acc improved from 0.69028 to 0.69216, saving model to data/weights/__weights-improvement-51-0.69.h5\n"
     ]
    },
    {
     "name": "stdout",
     "output_type": "stream",
     "text": [
      "50000/50000 [==============================] - 223s - loss: 1.7439 - acc: 0.6922   \n",
      "Epoch 53/150\n",
      "49500/50000 [============================>.] - ETA: 2s - loss: 1.7248 - acc: 0.6941Epoch 00052: acc improved from 0.69216 to 0.69410, saving model to data/weights/__weights-improvement-52-0.69.h5\n",
      "50000/50000 [==============================] - 223s - loss: 1.7249 - acc: 0.6941   \n",
      "Epoch 54/150\n",
      "49500/50000 [============================>.] - ETA: 2s - loss: 1.7093 - acc: 0.6955Epoch 00053: acc improved from 0.69410 to 0.69554, saving model to data/weights/__weights-improvement-53-0.70.h5\n",
      "50000/50000 [==============================] - 224s - loss: 1.7091 - acc: 0.6955   \n",
      "Epoch 55/150\n",
      "49500/50000 [============================>.] - ETA: 2s - loss: 1.6894 - acc: 0.6975Epoch 00054: acc improved from 0.69554 to 0.69759, saving model to data/weights/__weights-improvement-54-0.70.h5\n",
      "50000/50000 [==============================] - 223s - loss: 1.6892 - acc: 0.6976   \n",
      "Epoch 56/150\n",
      "49500/50000 [============================>.] - ETA: 2s - loss: 1.6712 - acc: 0.6994Epoch 00055: acc improved from 0.69759 to 0.69938, saving model to data/weights/__weights-improvement-55-0.70.h5\n",
      "50000/50000 [==============================] - 223s - loss: 1.6717 - acc: 0.6994   \n",
      "Epoch 57/150\n",
      "49500/50000 [============================>.] - ETA: 2s - loss: 1.6540 - acc: 0.7015Epoch 00056: acc improved from 0.69938 to 0.70143, saving model to data/weights/__weights-improvement-56-0.70.h5\n",
      "50000/50000 [==============================] - 223s - loss: 1.6546 - acc: 0.7014   \n",
      "Epoch 58/150\n",
      "49500/50000 [============================>.] - ETA: 2s - loss: 1.6381 - acc: 0.7029Epoch 00057: acc improved from 0.70143 to 0.70288, saving model to data/weights/__weights-improvement-57-0.70.h5\n",
      "50000/50000 [==============================] - 223s - loss: 1.6384 - acc: 0.7029   \n",
      "Epoch 59/150\n",
      "49500/50000 [============================>.] - ETA: 2s - loss: 1.6201 - acc: 0.7050Epoch 00058: acc improved from 0.70288 to 0.70494, saving model to data/weights/__weights-improvement-58-0.70.h5\n",
      "50000/50000 [==============================] - 223s - loss: 1.6204 - acc: 0.7049   \n",
      "Epoch 60/150\n",
      "49500/50000 [============================>.] - ETA: 2s - loss: 1.6150 - acc: 0.7053Epoch 00059: acc improved from 0.70494 to 0.70533, saving model to data/weights/__weights-improvement-59-0.71.h5\n",
      "50000/50000 [==============================] - 223s - loss: 1.6151 - acc: 0.7053   \n",
      "Epoch 61/150\n",
      "49500/50000 [============================>.] - ETA: 2s - loss: 1.5870 - acc: 0.7086Epoch 00060: acc improved from 0.70533 to 0.70870, saving model to data/weights/__weights-improvement-60-0.71.h5\n",
      "50000/50000 [==============================] - 223s - loss: 1.5865 - acc: 0.7087   \n",
      "Epoch 62/150\n",
      "49500/50000 [============================>.] - ETA: 2s - loss: 1.5670 - acc: 0.7111Epoch 00061: acc improved from 0.70870 to 0.71112, saving model to data/weights/__weights-improvement-61-0.71.h5\n",
      "50000/50000 [==============================] - 223s - loss: 1.5671 - acc: 0.7111   \n",
      "Epoch 63/150\n",
      "49500/50000 [============================>.] - ETA: 2s - loss: 1.5491 - acc: 0.7130Epoch 00062: acc improved from 0.71112 to 0.71291, saving model to data/weights/__weights-improvement-62-0.71.h5\n",
      "50000/50000 [==============================] - 223s - loss: 1.5496 - acc: 0.7129   \n",
      "Epoch 64/150\n",
      "49500/50000 [============================>.] - ETA: 2s - loss: 1.5324 - acc: 0.7150Epoch 00063: acc improved from 0.71291 to 0.71506, saving model to data/weights/__weights-improvement-63-0.72.h5\n",
      "50000/50000 [==============================] - 223s - loss: 1.5325 - acc: 0.7151   \n",
      "Epoch 65/150\n",
      "49500/50000 [============================>.] - ETA: 2s - loss: 1.5162 - acc: 0.7171Epoch 00064: acc improved from 0.71506 to 0.71715, saving model to data/weights/__weights-improvement-64-0.72.h5\n",
      "50000/50000 [==============================] - 223s - loss: 1.5159 - acc: 0.7172   \n",
      "Epoch 66/150\n",
      "49500/50000 [============================>.] - ETA: 2s - loss: 1.4995 - acc: 0.7193Epoch 00065: acc improved from 0.71715 to 0.71926, saving model to data/weights/__weights-improvement-65-0.72.h5\n",
      "50000/50000 [==============================] - 223s - loss: 1.4998 - acc: 0.7193   \n",
      "Epoch 67/150\n",
      "49500/50000 [============================>.] - ETA: 2s - loss: 1.4841 - acc: 0.7212Epoch 00066: acc improved from 0.71926 to 0.72123, saving model to data/weights/__weights-improvement-66-0.72.h5\n",
      "50000/50000 [==============================] - 223s - loss: 1.4840 - acc: 0.7212   \n",
      "Epoch 68/150\n",
      "49500/50000 [============================>.] - ETA: 2s - loss: 1.4681 - acc: 0.7230Epoch 00067: acc improved from 0.72123 to 0.72314, saving model to data/weights/__weights-improvement-67-0.72.h5\n",
      "50000/50000 [==============================] - 223s - loss: 1.4678 - acc: 0.7231   \n",
      "Epoch 69/150\n",
      "49500/50000 [============================>.] - ETA: 2s - loss: 1.4543 - acc: 0.7248Epoch 00068: acc improved from 0.72314 to 0.72478, saving model to data/weights/__weights-improvement-68-0.72.h5\n",
      "50000/50000 [==============================] - 223s - loss: 1.4548 - acc: 0.7248   \n",
      "Epoch 70/150\n",
      "49500/50000 [============================>.] - ETA: 2s - loss: 1.4388 - acc: 0.7266Epoch 00069: acc improved from 0.72478 to 0.72666, saving model to data/weights/__weights-improvement-69-0.73.h5\n",
      "50000/50000 [==============================] - 223s - loss: 1.4387 - acc: 0.7267   \n",
      "Epoch 71/150\n",
      "49500/50000 [============================>.] - ETA: 2s - loss: 1.4243 - acc: 0.7287Epoch 00070: acc improved from 0.72666 to 0.72876, saving model to data/weights/__weights-improvement-70-0.73.h5\n",
      "50000/50000 [==============================] - 223s - loss: 1.4242 - acc: 0.7288   \n",
      "Epoch 72/150\n",
      "49500/50000 [============================>.] - ETA: 2s - loss: 1.4116 - acc: 0.7302Epoch 00071: acc improved from 0.72876 to 0.73022, saving model to data/weights/__weights-improvement-71-0.73.h5\n",
      "50000/50000 [==============================] - 223s - loss: 1.4115 - acc: 0.7302   \n",
      "Epoch 73/150\n",
      "49500/50000 [============================>.] - ETA: 2s - loss: 1.3929 - acc: 0.7328Epoch 00072: acc improved from 0.73022 to 0.73275, saving model to data/weights/__weights-improvement-72-0.73.h5\n",
      "50000/50000 [==============================] - 223s - loss: 1.3930 - acc: 0.7328   \n",
      "Epoch 74/150\n",
      "49500/50000 [============================>.] - ETA: 2s - loss: 1.3790 - acc: 0.7346Epoch 00073: acc improved from 0.73275 to 0.73468, saving model to data/weights/__weights-improvement-73-0.73.h5\n",
      "50000/50000 [==============================] - 222s - loss: 1.3787 - acc: 0.7347   \n",
      "Epoch 75/150\n",
      "49500/50000 [============================>.] - ETA: 2s - loss: 1.3630 - acc: 0.7368Epoch 00074: acc improved from 0.73468 to 0.73664, saving model to data/weights/__weights-improvement-74-0.74.h5\n",
      "50000/50000 [==============================] - 221s - loss: 1.3639 - acc: 0.7366   \n",
      "Epoch 76/150\n",
      "49500/50000 [============================>.] - ETA: 2s - loss: 1.3488 - acc: 0.7388Epoch 00075: acc improved from 0.73664 to 0.73868, saving model to data/weights/__weights-improvement-75-0.74.h5\n",
      "50000/50000 [==============================] - 221s - loss: 1.3499 - acc: 0.7387   \n",
      "Epoch 77/150\n",
      "49500/50000 [============================>.] - ETA: 2s - loss: 1.3351 - acc: 0.7406Epoch 00076: acc improved from 0.73868 to 0.74058, saving model to data/weights/__weights-improvement-76-0.74.h5\n",
      "50000/50000 [==============================] - 222s - loss: 1.3351 - acc: 0.7406   \n",
      "Epoch 78/150\n",
      "49500/50000 [============================>.] - ETA: 2s - loss: 1.3224 - acc: 0.7422Epoch 00077: acc improved from 0.74058 to 0.74228, saving model to data/weights/__weights-improvement-77-0.74.h5\n",
      "50000/50000 [==============================] - 223s - loss: 1.3221 - acc: 0.7423   \n",
      "Epoch 79/150\n",
      "49500/50000 [============================>.] - ETA: 2s - loss: 1.3078 - acc: 0.7444Epoch 00078: acc improved from 0.74228 to 0.74433, saving model to data/weights/__weights-improvement-78-0.74.h5\n",
      "50000/50000 [==============================] - 221s - loss: 1.3081 - acc: 0.7443   \n",
      "Epoch 80/150\n",
      "49500/50000 [============================>.] - ETA: 2s - loss: 1.2934 - acc: 0.7464Epoch 00079: acc improved from 0.74433 to 0.74632, saving model to data/weights/__weights-improvement-79-0.75.h5\n"
     ]
    },
    {
     "name": "stdout",
     "output_type": "stream",
     "text": [
      "50000/50000 [==============================] - 221s - loss: 1.2938 - acc: 0.7463   \n",
      "Epoch 81/150\n",
      "49500/50000 [============================>.] - ETA: 2s - loss: 1.2810 - acc: 0.7481Epoch 00080: acc improved from 0.74632 to 0.74808, saving model to data/weights/__weights-improvement-80-0.75.h5\n",
      "50000/50000 [==============================] - 221s - loss: 1.2812 - acc: 0.7481   \n",
      "Epoch 82/150\n",
      "49500/50000 [============================>.] - ETA: 2s - loss: 1.2682 - acc: 0.7497Epoch 00081: acc improved from 0.74808 to 0.74970, saving model to data/weights/__weights-improvement-81-0.75.h5\n",
      "50000/50000 [==============================] - 222s - loss: 1.2687 - acc: 0.7497   \n",
      "Epoch 83/150\n",
      "49500/50000 [============================>.] - ETA: 2s - loss: 1.2572 - acc: 0.7513Epoch 00082: acc improved from 0.74970 to 0.75129, saving model to data/weights/__weights-improvement-82-0.75.h5\n",
      "50000/50000 [==============================] - 222s - loss: 1.2575 - acc: 0.7513   \n",
      "Epoch 84/150\n",
      "49500/50000 [============================>.] - ETA: 2s - loss: 1.2425 - acc: 0.7534Epoch 00083: acc improved from 0.75129 to 0.75336, saving model to data/weights/__weights-improvement-83-0.75.h5\n",
      "50000/50000 [==============================] - 222s - loss: 1.2430 - acc: 0.7534   \n",
      "Epoch 85/150\n",
      "49500/50000 [============================>.] - ETA: 2s - loss: 1.2297 - acc: 0.7553Epoch 00084: acc improved from 0.75336 to 0.75534, saving model to data/weights/__weights-improvement-84-0.76.h5\n",
      "50000/50000 [==============================] - 221s - loss: 1.2296 - acc: 0.7553   \n",
      "Epoch 86/150\n",
      "49500/50000 [============================>.] - ETA: 2s - loss: 1.2174 - acc: 0.7570Epoch 00085: acc improved from 0.75534 to 0.75706, saving model to data/weights/__weights-improvement-85-0.76.h5\n",
      "50000/50000 [==============================] - 221s - loss: 1.2172 - acc: 0.7571   \n",
      "Epoch 87/150\n",
      "49500/50000 [============================>.] - ETA: 2s - loss: 1.2041 - acc: 0.7593Epoch 00086: acc improved from 0.75706 to 0.75920, saving model to data/weights/__weights-improvement-86-0.76.h5\n",
      "50000/50000 [==============================] - 221s - loss: 1.2044 - acc: 0.7592   \n",
      "Epoch 88/150\n",
      "49500/50000 [============================>.] - ETA: 2s - loss: 1.1925 - acc: 0.7605Epoch 00087: acc improved from 0.75920 to 0.76046, saving model to data/weights/__weights-improvement-87-0.76.h5\n",
      "50000/50000 [==============================] - 221s - loss: 1.1927 - acc: 0.7605   \n",
      "Epoch 89/150\n",
      "49500/50000 [============================>.] - ETA: 2s - loss: 1.1814 - acc: 0.7622Epoch 00088: acc improved from 0.76046 to 0.76215, saving model to data/weights/__weights-improvement-88-0.76.h5\n",
      "50000/50000 [==============================] - 221s - loss: 1.1818 - acc: 0.7622   \n",
      "Epoch 90/150\n",
      "49500/50000 [============================>.] - ETA: 2s - loss: 1.1676 - acc: 0.7646Epoch 00089: acc improved from 0.76215 to 0.76458, saving model to data/weights/__weights-improvement-89-0.76.h5\n",
      "50000/50000 [==============================] - 221s - loss: 1.1678 - acc: 0.7646   \n",
      "Epoch 91/150\n",
      "49500/50000 [============================>.] - ETA: 2s - loss: 1.1558 - acc: 0.7662Epoch 00090: acc improved from 0.76458 to 0.76611, saving model to data/weights/__weights-improvement-90-0.77.h5\n",
      "50000/50000 [==============================] - 221s - loss: 1.1562 - acc: 0.7661   \n",
      "Epoch 92/150\n",
      "49500/50000 [============================>.] - ETA: 2s - loss: 1.1443 - acc: 0.7678Epoch 00091: acc improved from 0.76611 to 0.76782, saving model to data/weights/__weights-improvement-91-0.77.h5\n",
      "50000/50000 [==============================] - 220s - loss: 1.1442 - acc: 0.7678   \n",
      "Epoch 93/150\n",
      "49500/50000 [============================>.] - ETA: 2s - loss: 1.1321 - acc: 0.7698Epoch 00092: acc improved from 0.76782 to 0.76966, saving model to data/weights/__weights-improvement-92-0.77.h5\n",
      "50000/50000 [==============================] - 222s - loss: 1.1326 - acc: 0.7697   \n",
      "Epoch 94/150\n",
      "49500/50000 [============================>.] - ETA: 2s - loss: 1.1195 - acc: 0.7717Epoch 00093: acc improved from 0.76966 to 0.77171, saving model to data/weights/__weights-improvement-93-0.77.h5\n",
      "50000/50000 [==============================] - 223s - loss: 1.1197 - acc: 0.7717   \n",
      "Epoch 95/150\n",
      "49500/50000 [============================>.] - ETA: 2s - loss: 1.1081 - acc: 0.7734Epoch 00094: acc improved from 0.77171 to 0.77333, saving model to data/weights/__weights-improvement-94-0.77.h5\n",
      "50000/50000 [==============================] - 222s - loss: 1.1087 - acc: 0.7733   \n",
      "Epoch 96/150\n",
      "49500/50000 [============================>.] - ETA: 2s - loss: 1.0959 - acc: 0.7754Epoch 00095: acc improved from 0.77333 to 0.77530, saving model to data/weights/__weights-improvement-95-0.78.h5\n",
      "50000/50000 [==============================] - 222s - loss: 1.0961 - acc: 0.7753   \n",
      "Epoch 97/150\n",
      "49500/50000 [============================>.] - ETA: 2s - loss: 1.0837 - acc: 0.7775Epoch 00096: acc improved from 0.77530 to 0.77752, saving model to data/weights/__weights-improvement-96-0.78.h5\n",
      "50000/50000 [==============================] - 222s - loss: 1.0835 - acc: 0.7775   \n",
      "Epoch 98/150\n",
      "49500/50000 [============================>.] - ETA: 2s - loss: 1.0727 - acc: 0.7793Epoch 00097: acc improved from 0.77752 to 0.77935, saving model to data/weights/__weights-improvement-97-0.78.h5\n",
      "50000/50000 [==============================] - 222s - loss: 1.0727 - acc: 0.7794   \n",
      "Epoch 99/150\n",
      "49500/50000 [============================>.] - ETA: 2s - loss: 1.0600 - acc: 0.7812Epoch 00098: acc improved from 0.77935 to 0.78111, saving model to data/weights/__weights-improvement-98-0.78.h5\n",
      "50000/50000 [==============================] - 221s - loss: 1.0604 - acc: 0.7811   \n",
      "Epoch 100/150\n",
      "49500/50000 [============================>.] - ETA: 2s - loss: 1.0488 - acc: 0.7830Epoch 00099: acc improved from 0.78111 to 0.78289, saving model to data/weights/__weights-improvement-99-0.78.h5\n",
      "50000/50000 [==============================] - 221s - loss: 1.0492 - acc: 0.7829   \n",
      "Epoch 101/150\n",
      "49500/50000 [============================>.] - ETA: 2s - loss: 1.0379 - acc: 0.7847Epoch 00100: acc improved from 0.78289 to 0.78467, saving model to data/weights/__weights-improvement-100-0.78.h5\n",
      "50000/50000 [==============================] - 221s - loss: 1.0381 - acc: 0.7847   \n",
      "Epoch 102/150\n",
      "49500/50000 [============================>.] - ETA: 2s - loss: 1.0274 - acc: 0.7861Epoch 00101: acc improved from 0.78467 to 0.78611, saving model to data/weights/__weights-improvement-101-0.79.h5\n",
      "50000/50000 [==============================] - 221s - loss: 1.0277 - acc: 0.7861   \n",
      "Epoch 103/150\n",
      "49500/50000 [============================>.] - ETA: 2s - loss: 1.0169 - acc: 0.7881Epoch 00102: acc improved from 0.78611 to 0.78803, saving model to data/weights/__weights-improvement-102-0.79.h5\n",
      "50000/50000 [==============================] - 221s - loss: 1.0172 - acc: 0.7880   \n",
      "Epoch 104/150\n",
      "49500/50000 [============================>.] - ETA: 2s - loss: 1.0033 - acc: 0.7906Epoch 00103: acc improved from 0.78803 to 0.79064, saving model to data/weights/__weights-improvement-103-0.79.h5\n",
      "50000/50000 [==============================] - 221s - loss: 1.0035 - acc: 0.7906   \n",
      "Epoch 105/150\n",
      "49500/50000 [============================>.] - ETA: 2s - loss: 0.9926 - acc: 0.7922Epoch 00104: acc improved from 0.79064 to 0.79219, saving model to data/weights/__weights-improvement-104-0.79.h5\n",
      "50000/50000 [==============================] - 221s - loss: 0.9926 - acc: 0.7922   \n",
      "Epoch 106/150\n",
      "49500/50000 [============================>.] - ETA: 2s - loss: 0.9803 - acc: 0.7944Epoch 00105: acc improved from 0.79219 to 0.79434, saving model to data/weights/__weights-improvement-105-0.79.h5\n",
      "50000/50000 [==============================] - 221s - loss: 0.9809 - acc: 0.7943   \n",
      "Epoch 107/150\n",
      "49500/50000 [============================>.] - ETA: 2s - loss: 0.9705 - acc: 0.7956Epoch 00106: acc improved from 0.79434 to 0.79556, saving model to data/weights/__weights-improvement-106-0.80.h5\n",
      "50000/50000 [==============================] - 221s - loss: 0.9707 - acc: 0.7956   \n",
      "Epoch 108/150\n",
      "49500/50000 [============================>.] - ETA: 2s - loss: 0.9607 - acc: 0.7975Epoch 00107: acc improved from 0.79556 to 0.79750, saving model to data/weights/__weights-improvement-107-0.80.h5\n"
     ]
    },
    {
     "name": "stdout",
     "output_type": "stream",
     "text": [
      "50000/50000 [==============================] - 221s - loss: 0.9608 - acc: 0.7975   \n",
      "Epoch 109/150\n",
      "49500/50000 [============================>.] - ETA: 2s - loss: 0.9490 - acc: 0.7997Epoch 00108: acc improved from 0.79750 to 0.79964, saving model to data/weights/__weights-improvement-108-0.80.h5\n",
      "50000/50000 [==============================] - 221s - loss: 0.9493 - acc: 0.7996   \n",
      "Epoch 110/150\n",
      "49500/50000 [============================>.] - ETA: 2s - loss: 0.9375 - acc: 0.8016Epoch 00109: acc improved from 0.79964 to 0.80147, saving model to data/weights/__weights-improvement-109-0.80.h5\n",
      "50000/50000 [==============================] - 221s - loss: 0.9383 - acc: 0.8015   \n",
      "Epoch 111/150\n",
      "49500/50000 [============================>.] - ETA: 2s - loss: 0.9297 - acc: 0.8026Epoch 00110: acc improved from 0.80147 to 0.80262, saving model to data/weights/__weights-improvement-110-0.80.h5\n",
      "50000/50000 [==============================] - 221s - loss: 0.9298 - acc: 0.8026   \n",
      "Epoch 112/150\n",
      "49500/50000 [============================>.] - ETA: 2s - loss: 0.9183 - acc: 0.8048Epoch 00111: acc improved from 0.80262 to 0.80474, saving model to data/weights/__weights-improvement-111-0.80.h5\n",
      "50000/50000 [==============================] - 221s - loss: 0.9184 - acc: 0.8047   \n",
      "Epoch 113/150\n",
      "49500/50000 [============================>.] - ETA: 2s - loss: 0.9077 - acc: 0.8064Epoch 00112: acc improved from 0.80474 to 0.80648, saving model to data/weights/__weights-improvement-112-0.81.h5\n",
      "50000/50000 [==============================] - 221s - loss: 0.9076 - acc: 0.8065   \n",
      "Epoch 114/150\n",
      "49500/50000 [============================>.] - ETA: 2s - loss: 0.8953 - acc: 0.8089Epoch 00113: acc improved from 0.80648 to 0.80870, saving model to data/weights/__weights-improvement-113-0.81.h5\n",
      "50000/50000 [==============================] - 221s - loss: 0.8961 - acc: 0.8087   \n",
      "Epoch 115/150\n",
      "49500/50000 [============================>.] - ETA: 2s - loss: 0.8840 - acc: 0.8109Epoch 00114: acc improved from 0.80870 to 0.81079, saving model to data/weights/__weights-improvement-114-0.81.h5\n",
      "50000/50000 [==============================] - 221s - loss: 0.8843 - acc: 0.8108   \n",
      "Epoch 116/150\n",
      "49500/50000 [============================>.] - ETA: 2s - loss: 0.8733 - acc: 0.8127Epoch 00115: acc improved from 0.81079 to 0.81266, saving model to data/weights/__weights-improvement-115-0.81.h5\n",
      "50000/50000 [==============================] - 221s - loss: 0.8735 - acc: 0.8127   \n",
      "Epoch 117/150\n",
      "49500/50000 [============================>.] - ETA: 2s - loss: 0.8643 - acc: 0.8145Epoch 00116: acc improved from 0.81266 to 0.81445, saving model to data/weights/__weights-improvement-116-0.81.h5\n",
      "50000/50000 [==============================] - 221s - loss: 0.8646 - acc: 0.8144   \n",
      "Epoch 118/150\n",
      "49500/50000 [============================>.] - ETA: 2s - loss: 0.8535 - acc: 0.8165Epoch 00117: acc improved from 0.81445 to 0.81651, saving model to data/weights/__weights-improvement-117-0.82.h5\n",
      "50000/50000 [==============================] - 221s - loss: 0.8534 - acc: 0.8165   \n",
      "Epoch 119/150\n",
      "49500/50000 [============================>.] - ETA: 2s - loss: 0.8435 - acc: 0.8181Epoch 00118: acc improved from 0.81651 to 0.81801, saving model to data/weights/__weights-improvement-118-0.82.h5\n",
      "50000/50000 [==============================] - 221s - loss: 0.8437 - acc: 0.8180   \n",
      "Epoch 120/150\n",
      "49500/50000 [============================>.] - ETA: 2s - loss: 0.8331 - acc: 0.8199Epoch 00119: acc improved from 0.81801 to 0.81989, saving model to data/weights/__weights-improvement-119-0.82.h5\n"
     ]
    },
    {
     "ename": "OSError",
     "evalue": "Driver write request failed (file write failed: time = Thu Dec 14 13:14:50 2017\n, filename = 'data/weights/__weights-improvement-119-0.82.h5', file descriptor = 60, errno = 28, error message = 'No space left on device', buf = 0x7ffddaddddf0, total write size = 96, bytes this sub-write = 96, bytes actually written = 18446744073709551615, offset = 0)",
     "output_type": "error",
     "traceback": [
      "\u001b[0;31m---------------------------------------------------------------------------\u001b[0m",
      "\u001b[0;31mOSError\u001b[0m                                   Traceback (most recent call last)",
      "\u001b[0;32m/usr/local/lib/python3.4/dist-packages/keras/models.py\u001b[0m in \u001b[0;36msave_model\u001b[0;34m(model, filepath, overwrite, include_optimizer)\u001b[0m\n\u001b[1;32m    114\u001b[0m             \u001b[0mmodel_layers\u001b[0m \u001b[0;34m=\u001b[0m \u001b[0mmodel\u001b[0m\u001b[0;34m.\u001b[0m\u001b[0mlayers\u001b[0m\u001b[0;34m\u001b[0m\u001b[0m\n\u001b[0;32m--> 115\u001b[0;31m         \u001b[0mtopology\u001b[0m\u001b[0;34m.\u001b[0m\u001b[0msave_weights_to_hdf5_group\u001b[0m\u001b[0;34m(\u001b[0m\u001b[0mmodel_weights_group\u001b[0m\u001b[0;34m,\u001b[0m \u001b[0mmodel_layers\u001b[0m\u001b[0;34m)\u001b[0m\u001b[0;34m\u001b[0m\u001b[0m\n\u001b[0m\u001b[1;32m    116\u001b[0m \u001b[0;34m\u001b[0m\u001b[0m\n",
      "\u001b[0;32m/usr/local/lib/python3.4/dist-packages/keras/engine/topology.py\u001b[0m in \u001b[0;36msave_weights_to_hdf5_group\u001b[0;34m(f, layers)\u001b[0m\n\u001b[1;32m   2864\u001b[0m             \u001b[0;32melse\u001b[0m\u001b[0;34m:\u001b[0m\u001b[0;34m\u001b[0m\u001b[0m\n\u001b[0;32m-> 2865\u001b[0;31m                 \u001b[0mparam_dset\u001b[0m\u001b[0;34m[\u001b[0m\u001b[0;34m:\u001b[0m\u001b[0;34m]\u001b[0m \u001b[0;34m=\u001b[0m \u001b[0mval\u001b[0m\u001b[0;34m\u001b[0m\u001b[0m\n\u001b[0m\u001b[1;32m   2866\u001b[0m \u001b[0;34m\u001b[0m\u001b[0m\n",
      "\u001b[0;32mh5py/_objects.pyx\u001b[0m in \u001b[0;36mh5py._objects.with_phil.wrapper\u001b[0;34m()\u001b[0m\n",
      "\u001b[0;32mh5py/_objects.pyx\u001b[0m in \u001b[0;36mh5py._objects.with_phil.wrapper\u001b[0;34m()\u001b[0m\n",
      "\u001b[0;32m/usr/local/lib/python3.4/dist-packages/h5py/_hl/dataset.py\u001b[0m in \u001b[0;36m__setitem__\u001b[0;34m(self, args, val)\u001b[0m\n\u001b[1;32m    631\u001b[0m         \u001b[0;32mfor\u001b[0m \u001b[0mfspace\u001b[0m \u001b[0;32min\u001b[0m \u001b[0mselection\u001b[0m\u001b[0;34m.\u001b[0m\u001b[0mbroadcast\u001b[0m\u001b[0;34m(\u001b[0m\u001b[0mmshape\u001b[0m\u001b[0;34m)\u001b[0m\u001b[0;34m:\u001b[0m\u001b[0;34m\u001b[0m\u001b[0m\n\u001b[0;32m--> 632\u001b[0;31m             \u001b[0mself\u001b[0m\u001b[0;34m.\u001b[0m\u001b[0mid\u001b[0m\u001b[0;34m.\u001b[0m\u001b[0mwrite\u001b[0m\u001b[0;34m(\u001b[0m\u001b[0mmspace\u001b[0m\u001b[0;34m,\u001b[0m \u001b[0mfspace\u001b[0m\u001b[0;34m,\u001b[0m \u001b[0mval\u001b[0m\u001b[0;34m,\u001b[0m \u001b[0mmtype\u001b[0m\u001b[0;34m,\u001b[0m \u001b[0mdxpl\u001b[0m\u001b[0;34m=\u001b[0m\u001b[0mself\u001b[0m\u001b[0;34m.\u001b[0m\u001b[0m_dxpl\u001b[0m\u001b[0;34m)\u001b[0m\u001b[0;34m\u001b[0m\u001b[0m\n\u001b[0m\u001b[1;32m    633\u001b[0m \u001b[0;34m\u001b[0m\u001b[0m\n",
      "\u001b[0;32mh5py/_objects.pyx\u001b[0m in \u001b[0;36mh5py._objects.with_phil.wrapper\u001b[0;34m()\u001b[0m\n",
      "\u001b[0;32mh5py/_objects.pyx\u001b[0m in \u001b[0;36mh5py._objects.with_phil.wrapper\u001b[0;34m()\u001b[0m\n",
      "\u001b[0;32mh5py/h5d.pyx\u001b[0m in \u001b[0;36mh5py.h5d.DatasetID.write\u001b[0;34m()\u001b[0m\n",
      "\u001b[0;32mh5py/_proxy.pyx\u001b[0m in \u001b[0;36mh5py._proxy.dset_rw\u001b[0;34m()\u001b[0m\n",
      "\u001b[0;32mh5py/_proxy.pyx\u001b[0m in \u001b[0;36mh5py._proxy.H5PY_H5Dwrite\u001b[0;34m()\u001b[0m\n",
      "\u001b[0;31mOSError\u001b[0m: Can't prepare for writing data (file write failed: time = Thu Dec 14 13:14:50 2017\n, filename = 'data/weights/__weights-improvement-119-0.82.h5', file descriptor = 60, errno = 28, error message = 'No space left on device', buf = 0x2052e0b28, total write size = 36504792, bytes this sub-write = 36504792, bytes actually written = 18446744073709551615, offset = 4472832)",
      "\nDuring handling of the above exception, another exception occurred:\n",
      "\u001b[0;31mOSError\u001b[0m                                   Traceback (most recent call last)",
      "\u001b[0;32m<ipython-input-13-0ca4e1a39ebf>\u001b[0m in \u001b[0;36m<module>\u001b[0;34m()\u001b[0m\n\u001b[1;32m     12\u001b[0m           \u001b[0mbatch_size\u001b[0m\u001b[0;34m=\u001b[0m\u001b[0mBATCH_SIZE\u001b[0m\u001b[0;34m,\u001b[0m\u001b[0;34m\u001b[0m\u001b[0m\n\u001b[1;32m     13\u001b[0m           \u001b[0mepochs\u001b[0m\u001b[0;34m=\u001b[0m\u001b[0mEPOCHS\u001b[0m\u001b[0;34m,\u001b[0m\u001b[0;34m\u001b[0m\u001b[0m\n\u001b[0;32m---> 14\u001b[0;31m           callbacks=[tensorboard,checkpoint])\n\u001b[0m\u001b[1;32m     15\u001b[0m \u001b[0;34m\u001b[0m\u001b[0m\n\u001b[1;32m     16\u001b[0m \u001b[0mprint\u001b[0m\u001b[0;34m(\u001b[0m\u001b[0;34m'Saving model...'\u001b[0m\u001b[0;34m)\u001b[0m\u001b[0;34m\u001b[0m\u001b[0m\n",
      "\u001b[0;32m/usr/local/lib/python3.4/dist-packages/keras/models.py\u001b[0m in \u001b[0;36mfit\u001b[0;34m(self, x, y, batch_size, epochs, verbose, callbacks, validation_split, validation_data, shuffle, class_weight, sample_weight, initial_epoch, **kwargs)\u001b[0m\n\u001b[1;32m    865\u001b[0m                               \u001b[0mclass_weight\u001b[0m\u001b[0;34m=\u001b[0m\u001b[0mclass_weight\u001b[0m\u001b[0;34m,\u001b[0m\u001b[0;34m\u001b[0m\u001b[0m\n\u001b[1;32m    866\u001b[0m                               \u001b[0msample_weight\u001b[0m\u001b[0;34m=\u001b[0m\u001b[0msample_weight\u001b[0m\u001b[0;34m,\u001b[0m\u001b[0;34m\u001b[0m\u001b[0m\n\u001b[0;32m--> 867\u001b[0;31m                               initial_epoch=initial_epoch)\n\u001b[0m\u001b[1;32m    868\u001b[0m \u001b[0;34m\u001b[0m\u001b[0m\n\u001b[1;32m    869\u001b[0m     def evaluate(self, x, y, batch_size=32, verbose=1,\n",
      "\u001b[0;32m/usr/local/lib/python3.4/dist-packages/keras/engine/training.py\u001b[0m in \u001b[0;36mfit\u001b[0;34m(self, x, y, batch_size, epochs, verbose, callbacks, validation_split, validation_data, shuffle, class_weight, sample_weight, initial_epoch, steps_per_epoch, validation_steps, **kwargs)\u001b[0m\n\u001b[1;32m   1596\u001b[0m                               \u001b[0minitial_epoch\u001b[0m\u001b[0;34m=\u001b[0m\u001b[0minitial_epoch\u001b[0m\u001b[0;34m,\u001b[0m\u001b[0;34m\u001b[0m\u001b[0m\n\u001b[1;32m   1597\u001b[0m                               \u001b[0msteps_per_epoch\u001b[0m\u001b[0;34m=\u001b[0m\u001b[0msteps_per_epoch\u001b[0m\u001b[0;34m,\u001b[0m\u001b[0;34m\u001b[0m\u001b[0m\n\u001b[0;32m-> 1598\u001b[0;31m                               validation_steps=validation_steps)\n\u001b[0m\u001b[1;32m   1599\u001b[0m \u001b[0;34m\u001b[0m\u001b[0m\n\u001b[1;32m   1600\u001b[0m     def evaluate(self, x, y,\n",
      "\u001b[0;32m/usr/local/lib/python3.4/dist-packages/keras/engine/training.py\u001b[0m in \u001b[0;36m_fit_loop\u001b[0;34m(self, f, ins, out_labels, batch_size, epochs, verbose, callbacks, val_f, val_ins, shuffle, callback_metrics, initial_epoch, steps_per_epoch, validation_steps)\u001b[0m\n\u001b[1;32m   1201\u001b[0m                             \u001b[0;32mfor\u001b[0m \u001b[0ml\u001b[0m\u001b[0;34m,\u001b[0m \u001b[0mo\u001b[0m \u001b[0;32min\u001b[0m \u001b[0mzip\u001b[0m\u001b[0;34m(\u001b[0m\u001b[0mout_labels\u001b[0m\u001b[0;34m,\u001b[0m \u001b[0mval_outs\u001b[0m\u001b[0;34m)\u001b[0m\u001b[0;34m:\u001b[0m\u001b[0;34m\u001b[0m\u001b[0m\n\u001b[1;32m   1202\u001b[0m                                 \u001b[0mepoch_logs\u001b[0m\u001b[0;34m[\u001b[0m\u001b[0;34m'val_'\u001b[0m \u001b[0;34m+\u001b[0m \u001b[0ml\u001b[0m\u001b[0;34m]\u001b[0m \u001b[0;34m=\u001b[0m \u001b[0mo\u001b[0m\u001b[0;34m\u001b[0m\u001b[0m\n\u001b[0;32m-> 1203\u001b[0;31m             \u001b[0mcallbacks\u001b[0m\u001b[0;34m.\u001b[0m\u001b[0mon_epoch_end\u001b[0m\u001b[0;34m(\u001b[0m\u001b[0mepoch\u001b[0m\u001b[0;34m,\u001b[0m \u001b[0mepoch_logs\u001b[0m\u001b[0;34m)\u001b[0m\u001b[0;34m\u001b[0m\u001b[0m\n\u001b[0m\u001b[1;32m   1204\u001b[0m             \u001b[0;32mif\u001b[0m \u001b[0mcallback_model\u001b[0m\u001b[0;34m.\u001b[0m\u001b[0mstop_training\u001b[0m\u001b[0;34m:\u001b[0m\u001b[0;34m\u001b[0m\u001b[0m\n\u001b[1;32m   1205\u001b[0m                 \u001b[0;32mbreak\u001b[0m\u001b[0;34m\u001b[0m\u001b[0m\n",
      "\u001b[0;32m/usr/local/lib/python3.4/dist-packages/keras/callbacks.py\u001b[0m in \u001b[0;36mon_epoch_end\u001b[0;34m(self, epoch, logs)\u001b[0m\n\u001b[1;32m     75\u001b[0m         \u001b[0mlogs\u001b[0m \u001b[0;34m=\u001b[0m \u001b[0mlogs\u001b[0m \u001b[0;32mor\u001b[0m \u001b[0;34m{\u001b[0m\u001b[0;34m}\u001b[0m\u001b[0;34m\u001b[0m\u001b[0m\n\u001b[1;32m     76\u001b[0m         \u001b[0;32mfor\u001b[0m \u001b[0mcallback\u001b[0m \u001b[0;32min\u001b[0m \u001b[0mself\u001b[0m\u001b[0;34m.\u001b[0m\u001b[0mcallbacks\u001b[0m\u001b[0;34m:\u001b[0m\u001b[0;34m\u001b[0m\u001b[0m\n\u001b[0;32m---> 77\u001b[0;31m             \u001b[0mcallback\u001b[0m\u001b[0;34m.\u001b[0m\u001b[0mon_epoch_end\u001b[0m\u001b[0;34m(\u001b[0m\u001b[0mepoch\u001b[0m\u001b[0;34m,\u001b[0m \u001b[0mlogs\u001b[0m\u001b[0;34m)\u001b[0m\u001b[0;34m\u001b[0m\u001b[0m\n\u001b[0m\u001b[1;32m     78\u001b[0m \u001b[0;34m\u001b[0m\u001b[0m\n\u001b[1;32m     79\u001b[0m     \u001b[0;32mdef\u001b[0m \u001b[0mon_batch_begin\u001b[0m\u001b[0;34m(\u001b[0m\u001b[0mself\u001b[0m\u001b[0;34m,\u001b[0m \u001b[0mbatch\u001b[0m\u001b[0;34m,\u001b[0m \u001b[0mlogs\u001b[0m\u001b[0;34m=\u001b[0m\u001b[0;32mNone\u001b[0m\u001b[0;34m)\u001b[0m\u001b[0;34m:\u001b[0m\u001b[0;34m\u001b[0m\u001b[0m\n",
      "\u001b[0;32m/usr/local/lib/python3.4/dist-packages/keras/callbacks.py\u001b[0m in \u001b[0;36mon_epoch_end\u001b[0;34m(self, epoch, logs)\u001b[0m\n\u001b[1;32m    415\u001b[0m                             \u001b[0mself\u001b[0m\u001b[0;34m.\u001b[0m\u001b[0mmodel\u001b[0m\u001b[0;34m.\u001b[0m\u001b[0msave_weights\u001b[0m\u001b[0;34m(\u001b[0m\u001b[0mfilepath\u001b[0m\u001b[0;34m,\u001b[0m \u001b[0moverwrite\u001b[0m\u001b[0;34m=\u001b[0m\u001b[0;32mTrue\u001b[0m\u001b[0;34m)\u001b[0m\u001b[0;34m\u001b[0m\u001b[0m\n\u001b[1;32m    416\u001b[0m                         \u001b[0;32melse\u001b[0m\u001b[0;34m:\u001b[0m\u001b[0;34m\u001b[0m\u001b[0m\n\u001b[0;32m--> 417\u001b[0;31m                             \u001b[0mself\u001b[0m\u001b[0;34m.\u001b[0m\u001b[0mmodel\u001b[0m\u001b[0;34m.\u001b[0m\u001b[0msave\u001b[0m\u001b[0;34m(\u001b[0m\u001b[0mfilepath\u001b[0m\u001b[0;34m,\u001b[0m \u001b[0moverwrite\u001b[0m\u001b[0;34m=\u001b[0m\u001b[0;32mTrue\u001b[0m\u001b[0;34m)\u001b[0m\u001b[0;34m\u001b[0m\u001b[0m\n\u001b[0m\u001b[1;32m    418\u001b[0m                     \u001b[0;32melse\u001b[0m\u001b[0;34m:\u001b[0m\u001b[0;34m\u001b[0m\u001b[0m\n\u001b[1;32m    419\u001b[0m                         \u001b[0;32mif\u001b[0m \u001b[0mself\u001b[0m\u001b[0;34m.\u001b[0m\u001b[0mverbose\u001b[0m \u001b[0;34m>\u001b[0m \u001b[0;36m0\u001b[0m\u001b[0;34m:\u001b[0m\u001b[0;34m\u001b[0m\u001b[0m\n",
      "\u001b[0;32m/usr/local/lib/python3.4/dist-packages/keras/engine/topology.py\u001b[0m in \u001b[0;36msave\u001b[0;34m(self, filepath, overwrite, include_optimizer)\u001b[0m\n\u001b[1;32m   2551\u001b[0m         \"\"\"\n\u001b[1;32m   2552\u001b[0m         \u001b[0;32mfrom\u001b[0m \u001b[0;34m.\u001b[0m\u001b[0;34m.\u001b[0m\u001b[0mmodels\u001b[0m \u001b[0;32mimport\u001b[0m \u001b[0msave_model\u001b[0m\u001b[0;34m\u001b[0m\u001b[0m\n\u001b[0;32m-> 2553\u001b[0;31m         \u001b[0msave_model\u001b[0m\u001b[0;34m(\u001b[0m\u001b[0mself\u001b[0m\u001b[0;34m,\u001b[0m \u001b[0mfilepath\u001b[0m\u001b[0;34m,\u001b[0m \u001b[0moverwrite\u001b[0m\u001b[0;34m,\u001b[0m \u001b[0minclude_optimizer\u001b[0m\u001b[0;34m)\u001b[0m\u001b[0;34m\u001b[0m\u001b[0m\n\u001b[0m\u001b[1;32m   2554\u001b[0m \u001b[0;34m\u001b[0m\u001b[0m\n\u001b[1;32m   2555\u001b[0m     \u001b[0;32mdef\u001b[0m \u001b[0msave_weights\u001b[0m\u001b[0;34m(\u001b[0m\u001b[0mself\u001b[0m\u001b[0;34m,\u001b[0m \u001b[0mfilepath\u001b[0m\u001b[0;34m,\u001b[0m \u001b[0moverwrite\u001b[0m\u001b[0;34m=\u001b[0m\u001b[0;32mTrue\u001b[0m\u001b[0;34m)\u001b[0m\u001b[0;34m:\u001b[0m\u001b[0;34m\u001b[0m\u001b[0m\n",
      "\u001b[0;32m/usr/local/lib/python3.4/dist-packages/keras/models.py\u001b[0m in \u001b[0;36msave_model\u001b[0;34m(model, filepath, overwrite, include_optimizer)\u001b[0m\n\u001b[1;32m    175\u001b[0m                         \u001b[0;32melse\u001b[0m\u001b[0;34m:\u001b[0m\u001b[0;34m\u001b[0m\u001b[0m\n\u001b[1;32m    176\u001b[0m                             \u001b[0mparam_dset\u001b[0m\u001b[0;34m[\u001b[0m\u001b[0;34m:\u001b[0m\u001b[0;34m]\u001b[0m \u001b[0;34m=\u001b[0m \u001b[0mval\u001b[0m\u001b[0;34m\u001b[0m\u001b[0m\n\u001b[0;32m--> 177\u001b[0;31m         \u001b[0mf\u001b[0m\u001b[0;34m.\u001b[0m\u001b[0mflush\u001b[0m\u001b[0;34m(\u001b[0m\u001b[0;34m)\u001b[0m\u001b[0;34m\u001b[0m\u001b[0m\n\u001b[0m\u001b[1;32m    178\u001b[0m \u001b[0;34m\u001b[0m\u001b[0m\n\u001b[1;32m    179\u001b[0m \u001b[0;34m\u001b[0m\u001b[0m\n",
      "\u001b[0;32mh5py/_objects.pyx\u001b[0m in \u001b[0;36mh5py._objects.with_phil.wrapper\u001b[0;34m()\u001b[0m\n",
      "\u001b[0;32mh5py/_objects.pyx\u001b[0m in \u001b[0;36mh5py._objects.with_phil.wrapper\u001b[0;34m()\u001b[0m\n",
      "\u001b[0;32m/usr/local/lib/python3.4/dist-packages/h5py/_hl/files.py\u001b[0m in \u001b[0;36m__exit__\u001b[0;34m(self, *args)\u001b[0m\n\u001b[1;32m    315\u001b[0m     \u001b[0;32mdef\u001b[0m \u001b[0m__exit__\u001b[0m\u001b[0;34m(\u001b[0m\u001b[0mself\u001b[0m\u001b[0;34m,\u001b[0m \u001b[0;34m*\u001b[0m\u001b[0margs\u001b[0m\u001b[0;34m)\u001b[0m\u001b[0;34m:\u001b[0m\u001b[0;34m\u001b[0m\u001b[0m\n\u001b[1;32m    316\u001b[0m         \u001b[0;32mif\u001b[0m \u001b[0mself\u001b[0m\u001b[0;34m.\u001b[0m\u001b[0mid\u001b[0m\u001b[0;34m:\u001b[0m\u001b[0;34m\u001b[0m\u001b[0m\n\u001b[0;32m--> 317\u001b[0;31m             \u001b[0mself\u001b[0m\u001b[0;34m.\u001b[0m\u001b[0mclose\u001b[0m\u001b[0;34m(\u001b[0m\u001b[0;34m)\u001b[0m\u001b[0;34m\u001b[0m\u001b[0m\n\u001b[0m\u001b[1;32m    318\u001b[0m \u001b[0;34m\u001b[0m\u001b[0m\n\u001b[1;32m    319\u001b[0m     \u001b[0;34m@\u001b[0m\u001b[0mwith_phil\u001b[0m\u001b[0;34m\u001b[0m\u001b[0m\n",
      "\u001b[0;32m/usr/local/lib/python3.4/dist-packages/h5py/_hl/files.py\u001b[0m in \u001b[0;36mclose\u001b[0;34m(self)\u001b[0m\n\u001b[1;32m    297\u001b[0m                 \u001b[0;32mfor\u001b[0m \u001b[0mid_\u001b[0m \u001b[0;32min\u001b[0m \u001b[0mfile_list\u001b[0m\u001b[0;34m:\u001b[0m\u001b[0;34m\u001b[0m\u001b[0m\n\u001b[1;32m    298\u001b[0m                     \u001b[0;32mwhile\u001b[0m \u001b[0mid_\u001b[0m\u001b[0;34m.\u001b[0m\u001b[0mvalid\u001b[0m\u001b[0;34m:\u001b[0m\u001b[0;34m\u001b[0m\u001b[0m\n\u001b[0;32m--> 299\u001b[0;31m                         \u001b[0mh5i\u001b[0m\u001b[0;34m.\u001b[0m\u001b[0mdec_ref\u001b[0m\u001b[0;34m(\u001b[0m\u001b[0mid_\u001b[0m\u001b[0;34m)\u001b[0m\u001b[0;34m\u001b[0m\u001b[0m\n\u001b[0m\u001b[1;32m    300\u001b[0m \u001b[0;34m\u001b[0m\u001b[0m\n\u001b[1;32m    301\u001b[0m                 \u001b[0mself\u001b[0m\u001b[0;34m.\u001b[0m\u001b[0mid\u001b[0m\u001b[0;34m.\u001b[0m\u001b[0mclose\u001b[0m\u001b[0;34m(\u001b[0m\u001b[0;34m)\u001b[0m\u001b[0;34m\u001b[0m\u001b[0m\n",
      "\u001b[0;32mh5py/_objects.pyx\u001b[0m in \u001b[0;36mh5py._objects.with_phil.wrapper\u001b[0;34m()\u001b[0m\n",
      "\u001b[0;32mh5py/_objects.pyx\u001b[0m in \u001b[0;36mh5py._objects.with_phil.wrapper\u001b[0;34m()\u001b[0m\n",
      "\u001b[0;32mh5py/h5i.pyx\u001b[0m in \u001b[0;36mh5py.h5i.dec_ref\u001b[0;34m()\u001b[0m\n",
      "\u001b[0;31mOSError\u001b[0m: Driver write request failed (file write failed: time = Thu Dec 14 13:14:50 2017\n, filename = 'data/weights/__weights-improvement-119-0.82.h5', file descriptor = 60, errno = 28, error message = 'No space left on device', buf = 0x7ffddaddddf0, total write size = 96, bytes this sub-write = 96, bytes actually written = 18446744073709551615, offset = 0)"
     ]
    }
   ],
   "source": [
    "from time import time\n",
    "from keras.callbacks import TensorBoard, ModelCheckpoint\n",
    "\n",
    "model_plain = create_UniLSTM(X_vocab_len, X_max_len, y_vocab_len, y_max_len, HIDDEN_DIM, NUM_LAYERS)\n",
    "\n",
    "tensorboard = TensorBoard(log_dir=\"data/logs/{}\".format(time()))\n",
    "filepath=\"data/weights/__weights-improvement-{epoch:02d}-{acc:.2f}.h5\"\n",
    "checkpoint = ModelCheckpoint(filepath, monitor='acc', verbose=1, save_best_only=True, mode='max')\n",
    "\n",
    "print('Train...')\n",
    "model_plain.fit(X_train_data,np.expand_dims(y_train_data, axis=-1),\n",
    "          batch_size=BATCH_SIZE,\n",
    "          epochs=EPOCHS,\n",
    "          callbacks=[tensorboard,checkpoint])\n",
    "\n",
    "print('Saving model...')\n",
    "model_plain.save_weights('data/weights/final_lstm_weights.h5')\n",
    "\n"
   ]
  },
  {
   "cell_type": "code",
   "execution_count": null,
   "metadata": {
    "collapsed": true
   },
   "outputs": [],
   "source": [
    "#model.save_weights('data/weights/lstm_weights.h5')\n",
    "model_plain = create_UniLSTM(X_vocab_len, X_max_len, y_vocab_len, y_max_len, HIDDEN_DIM, NUM_LAYERS)\n",
    "model_plain.load_weights('final_lstm_model_111217.h5')"
   ]
  },
  {
   "cell_type": "markdown",
   "metadata": {},
   "source": [
    "## Evaluation using Rouge score "
   ]
  },
  {
   "cell_type": "markdown",
   "metadata": {},
   "source": [
    "Now that we have the trained the model, load the test data i.e. test_article.txt and corresponding reference titles test_title.txt. Process the test data in the same way as the train data above, then use the trained model to predict on the test titles. \n",
    "\n",
    "To evalute out model performance in a seq2seq model we use Blue or Rouge score. Here we use the Rouge score. A Python package to aid in this can be obtained from: https://pypi.python.org/pypi/rouge/0.2.1"
   ]
  },
  {
   "cell_type": "code",
   "execution_count": 3,
   "metadata": {
    "collapsed": true
   },
   "outputs": [],
   "source": [
    "from rouge import Rouge\n",
    "import os.path\n",
    "\n",
    "\n",
    "def to_strings(data):\n",
    "    return data.split('\\n')\n",
    "\n",
    "def load_file(file):\n",
    "    f = open(file, 'r')\n",
    "    data = f.read()\n",
    "    f.close()\n",
    "    return data\n",
    "\n",
    "def save_file(data):\n",
    "    _dir = 'data/'\n",
    "    fileName = os.path.join(_dir, 'data/test_results.txt') \n",
    "    f = open(fileName, 'w')\n",
    "    f.write(data)\n",
    "    f.close()\n",
    "    return None\n",
    "\n",
    "def load_test_data(file, X_word2idx, X_max_len):\n",
    "    X_data = load_file(file)\n",
    "    X = [text_to_word_sequence(x) for x in X_data.split('\\n')]\n",
    "    for i, sentence in enumerate(X):\n",
    "        for j, word in enumerate(sentence):\n",
    "            if word in X_word2idx:\n",
    "                X[i][j] = X_word2idx[word]\n",
    "            else:\n",
    "                X[i][j] = X_word2idx['UNK']\n",
    "    return pad_sequences(X, maxlen=X_max_len, dtype='int32')\n",
    "\n",
    "def make_predictions(model, X_test, y_idx2word, save=False, print_results=False, prnt_num=15):\n",
    "    predictions = np.argmax(model.predict(X_test), axis=2)\n",
    "    sequences = []\n",
    "    for prediction in predictions:\n",
    "        sequence = ' '.join([y_idx2word[index] for index in prediction if index > 0])\n",
    "        sequences.append(sequence)\n",
    "    if save:\n",
    "        np.savetxt('data/test_results.txt', sequences, fmt='%s')\n",
    "    if print_results:\n",
    "        for seq in sequences[:prnt_num]:\n",
    "            print(seq)\n",
    "    return sequences\n",
    "\n",
    "def get_rouge_scores(preds, hyps, avg=True):\n",
    "    if len(hyps) != len(preds):\n",
    "            p_len = len(preds)\n",
    "            hyps = hyps[:p_len]  \n",
    "    rouge = Rouge()\n",
    "    print(\"Calculating rouge scores...\")\n",
    "    scores = rouge.get_scores(hyps, preds, avg=avg)\n",
    "    return scores\n",
    "\n"
   ]
  },
  {
   "cell_type": "code",
   "execution_count": 14,
   "metadata": {},
   "outputs": [
    {
     "name": "stdout",
     "output_type": "stream",
     "text": [
      "The history saving thread hit an unexpected error (OperationalError('database or disk is full',)).History will not be written to the database.\n",
      "london share prices higher at midday\n",
      "london share share prices lower at midday\n",
      "felipe felipe to to to for for for title\n",
      "moves as play to to kaiserslautern final\n",
      "a s s s years after a a started on a started\n",
      "Calculating rouge scores...\n"
     ]
    },
    {
     "data": {
      "text/plain": [
       "{'rouge-1': {'f': 0.15478922572549195,\n",
       "  'p': 0.18669590182231235,\n",
       "  'r': 0.13909750047164957},\n",
       " 'rouge-2': {'f': 0.04903181149019227,\n",
       "  'p': 0.051577181408634057,\n",
       "  'r': 0.048045540494833457},\n",
       " 'rouge-l': {'f': 0.13250889169904742,\n",
       "  'p': 0.14419579412794667,\n",
       "  'r': 0.13576955350418271}}"
      ]
     },
     "execution_count": 14,
     "metadata": {},
     "output_type": "execute_result"
    }
   ],
   "source": [
    "test_articles = \"data/test_article.txt\"\n",
    "ref_file = \"data/test_results.txt\"\n",
    "hyp_file = \"data/test_title.txt\"\n",
    "\n",
    "hyps = to_strings(load_file(hyp_file))\n",
    "X_test = load_test_data(test_articles, X_word2idx, X_max_len)\n",
    "\n",
    "preds2 = make_predictions(model_plain, X_test, y_idx2word, print_results=True, prnt_num=5)\n",
    "get_rouge_scores(hyps, preds2, avg=True)\n"
   ]
  },
  {
   "cell_type": "code",
   "execution_count": null,
   "metadata": {
    "collapsed": true
   },
   "outputs": [],
   "source": [
    "#model.save_weights('data/weights/lstm_weights.h5')\n",
    "model_plain = create_UniLSTM(X_vocab_len, X_max_len, y_vocab_len, y_max_len, HIDDEN_DIM, NUM_LAYERS)\n",
    "model_plain.load_weights('data/weights/__weights-improvement-99-0.78.h5')"
   ]
  },
  {
   "cell_type": "markdown",
   "metadata": {},
   "source": [
    "The summaries are quite poor despite on par rouge scores. In encoder decoder architecture, only the final state of encoder is used to calculate the probabilities which leads to sub-optimal results."
   ]
  },
  {
   "cell_type": "markdown",
   "metadata": {},
   "source": [
    "## Tensorboard Visualization "
   ]
  },
  {
   "cell_type": "markdown",
   "metadata": {},
   "source": [
    "We recommended training the data in batches because of our tensor constraints. This also presents us with a challenge of visualizing loss function and accuracy change with each epoch. Keras has an inbuilt function called fit_generator which takes in a generator function and gives the required batch for training. Use this Function to load data in batches of 100 for 200 steps_per_epoch. Run the training for 10 epochs. Use Keras callbacks to send data to tensorboad (you can look this up online). \n",
    "\n",
    "Once your training is done. Go to command line and run tensorboard. By default Tensorboard opens on 6006 port. Do remember to allow traffic on the same for gcloud (like you did for previous assignment). You can see various metrics depending on what you want to track like loss, accuracy, validation loss and validation accuracy over epochs. Attach the plots of loss and accuracy from the tensorboard display in the notebook"
   ]
  },
  {
   "cell_type": "code",
   "execution_count": 17,
   "metadata": {},
   "outputs": [
    {
     "data": {
      "image/png": "[encoded data removed]",
      "text/plain": [
       "<matplotlib.figure.Figure at 0x7f8ebb0e7390>"
      ]
     },
     "metadata": {},
     "output_type": "display_data"
    },
    {
     "data": {
      "image/png": "[encoded data removed]",
      "text/plain": [
       "<matplotlib.figure.Figure at 0x7f8ebb0d2080>"
      ]
     },
     "metadata": {},
     "output_type": "display_data"
    }
   ],
   "source": [
    "import matplotlib.pyplot as plt\n",
    "import matplotlib.image as mpimg\n",
    "\n",
    "image = mpimg.imread('images/acc.png')\n",
    "plt.imshow(image)\n",
    "plt.show()\n",
    "image2 = mpimg.imread('images/loss.png')\n",
    "plt.imshow(image2)\n",
    "plt.show()"
   ]
  },
  {
   "cell_type": "markdown",
   "metadata": {},
   "source": [
    "# Architecture 2: LSTM Encoder Decoder With Attention "
   ]
  },
  {
   "cell_type": "code",
   "execution_count": 16,
   "metadata": {
    "collapsed": true
   },
   "outputs": [],
   "source": [
    "BATCH_SIZE = 300 \n",
    "HIDDEN_DIM = 128 \n",
    "EPOCHS = 100"
   ]
  },
  {
   "cell_type": "markdown",
   "metadata": {},
   "source": [
    "Now we turn to an Attention architecture. Attention models use a weighted sum of all weights of encoder instead of just the last one (__see references__). In the code below, if return_probabilities is false, the attention decoder returns the prediction model; when true, the probability model is returned. Both models are needed in the inference and visualization sections."
   ]
  },
  {
   "cell_type": "code",
   "execution_count": 276,
   "metadata": {
    "collapsed": true
   },
   "outputs": [],
   "source": [
    "article = \"data/train_article.txt\"\n",
    "summary = \"data/train_title.txt\" \n",
    "vocab_size = 10000 # Not training time consideration vocab_size is reduced\n",
    "\n",
    "X_vocab_len, X_idx2word, X_word2idx, y_vocab_len, \\\n",
    "y_idx2word, y_word2idx, X_train_data, y_train_data, \\\n",
    "X_max_len, y_max_len = load_data(article, summary, vocab_size, max_len=20)"
   ]
  },
  {
   "cell_type": "code",
   "execution_count": 17,
   "metadata": {
    "collapsed": true
   },
   "outputs": [],
   "source": [
    "from keras.models import Model,Sequential\n",
    "from keras.layers import Input, LSTM, Dense, Embedding, RepeatVector, TimeDistributed, Activation, Dropout, Bidirectional\n",
    "from attention_decoder import AttentionDecoder\n",
    "from time import time\n",
    "\n",
    "def create_UniLSTMwithAttention(X_vocab_len, X_max_len, y_vocab_len, y_max_len, hidden_size, return_probabilities = False):\n",
    "    # create and return the model for unidirectional LSTM encoder decoder with attention\n",
    "    model = Sequential()\n",
    "    model.add(Embedding(X_vocab_len, hidden_size, input_length = X_max_len,  mask_zero=True))\n",
    "    model.add(LSTM(hidden_size, dropout=0.2, recurrent_dropout=0.1, return_sequences=True))\n",
    "    model.add(AttentionDecoder(hidden_size, y_vocab_len,return_probabilities=return_probabilities))\n",
    "\n",
    "    start = time()    \n",
    "    model.compile(loss='sparse_categorical_crossentropy', \n",
    "                      optimizer='rmsprop', \n",
    "                      metrics=['accuracy'])\n",
    "    end = time()\n",
    "    print(\"Time to compile: {}\".format(end-start))\n",
    "    print()\n",
    "    print(model.summary())\n",
    "    return model"
   ]
  },
  {
   "cell_type": "markdown",
   "metadata": {},
   "source": [
    "## Train the Model"
   ]
  },
  {
   "cell_type": "code",
   "execution_count": 18,
   "metadata": {},
   "outputs": [
    {
     "name": "stdout",
     "output_type": "stream",
     "text": [
      "Time to compile: 0.06444859504699707\n",
      "\n",
      "_________________________________________________________________\n",
      "Layer (type)                 Output Shape              Param #   \n",
      "=================================================================\n",
      "embedding_5 (Embedding)      (None, 20, 128)           1280256   \n",
      "_________________________________________________________________\n",
      "lstm_5 (LSTM)                (None, 20, 128)           131584    \n",
      "_________________________________________________________________\n",
      "AttentionDecoder (AttentionD (None, 20, 10002)         106599382 \n",
      "=================================================================\n",
      "Total params: 108,011,222\n",
      "Trainable params: 108,011,222\n",
      "Non-trainable params: 0\n",
      "_________________________________________________________________\n",
      "None\n",
      "Train...\n",
      "Epoch 1/100\n",
      "50000/50000 [==============================] - 448s - loss: 4.5684 - acc: 0.4785   \n",
      "Epoch 2/100\n",
      "50000/50000 [==============================] - 441s - loss: 4.0567 - acc: 0.4929   \n",
      "Epoch 3/100\n",
      "50000/50000 [==============================] - 441s - loss: 3.9375 - acc: 0.4983   \n",
      "Epoch 4/100\n",
      "50000/50000 [==============================] - 441s - loss: 3.8660 - acc: 0.5008   \n",
      "Epoch 5/100\n",
      "50000/50000 [==============================] - 440s - loss: 3.7889 - acc: 0.5037   \n",
      "Epoch 6/100\n",
      "50000/50000 [==============================] - 440s - loss: 3.7179 - acc: 0.5057   \n",
      "Epoch 7/100\n",
      "50000/50000 [==============================] - 440s - loss: 3.6539 - acc: 0.5077   \n",
      "Epoch 8/100\n",
      "50000/50000 [==============================] - 440s - loss: 3.5949 - acc: 0.5099   \n",
      "Epoch 9/100\n",
      "50000/50000 [==============================] - 440s - loss: 3.5431 - acc: 0.5117   \n",
      "Epoch 10/100\n",
      "49800/50000 [============================>.] - ETA: 1s - loss: 3.4979 - acc: 0.5132Epoch 00009: acc improved from -inf to 0.51325, saving model to data/weights/attn_weights-improvement-09-0.51.h5\n",
      "50000/50000 [==============================] - 441s - loss: 3.4974 - acc: 0.5132   \n",
      "Epoch 11/100\n",
      "50000/50000 [==============================] - 439s - loss: 3.4542 - acc: 0.5150   \n",
      "Epoch 12/100\n",
      "50000/50000 [==============================] - 440s - loss: 3.4144 - acc: 0.5162   \n",
      "Epoch 13/100\n",
      "50000/50000 [==============================] - 440s - loss: 3.3765 - acc: 0.5176   \n",
      "Epoch 14/100\n",
      "50000/50000 [==============================] - 440s - loss: 3.3399 - acc: 0.5188   \n",
      "Epoch 15/100\n",
      "50000/50000 [==============================] - 440s - loss: 3.3041 - acc: 0.5201   \n",
      "Epoch 16/100\n",
      "50000/50000 [==============================] - 440s - loss: 3.2704 - acc: 0.5210   \n",
      "Epoch 17/100\n",
      "50000/50000 [==============================] - 439s - loss: 3.2373 - acc: 0.5225   \n",
      "Epoch 18/100\n",
      "50000/50000 [==============================] - 440s - loss: 3.2070 - acc: 0.5234   \n",
      "Epoch 19/100\n",
      "50000/50000 [==============================] - 439s - loss: 3.1759 - acc: 0.5243   \n",
      "Epoch 20/100\n",
      "49800/50000 [============================>.] - ETA: 1s - loss: 3.1453 - acc: 0.5257Epoch 00019: acc improved from 0.51325 to 0.52566, saving model to data/weights/attn_weights-improvement-19-0.53.h5\n",
      "50000/50000 [==============================] - 440s - loss: 3.1456 - acc: 0.5257   \n",
      "Epoch 21/100\n",
      "50000/50000 [==============================] - 440s - loss: 3.1178 - acc: 0.5266   \n",
      "Epoch 22/100\n",
      "50000/50000 [==============================] - 439s - loss: 3.0915 - acc: 0.5276   \n",
      "Epoch 23/100\n",
      "50000/50000 [==============================] - 440s - loss: 3.0634 - acc: 0.5287   \n",
      "Epoch 24/100\n",
      "50000/50000 [==============================] - 440s - loss: 3.0379 - acc: 0.5296   \n",
      "Epoch 25/100\n",
      "50000/50000 [==============================] - 440s - loss: 3.0120 - acc: 0.5306   \n",
      "Epoch 26/100\n",
      "50000/50000 [==============================] - 440s - loss: 2.9871 - acc: 0.5317   \n",
      "Epoch 27/100\n",
      "50000/50000 [==============================] - 439s - loss: 2.9621 - acc: 0.5329   \n",
      "Epoch 28/100\n",
      "50000/50000 [==============================] - 440s - loss: 2.9354 - acc: 0.5341   \n",
      "Epoch 29/100\n",
      "50000/50000 [==============================] - 440s - loss: 2.9124 - acc: 0.5351   \n",
      "Epoch 30/100\n",
      "49800/50000 [============================>.] - ETA: 1s - loss: 2.8901 - acc: 0.5358Epoch 00029: acc improved from 0.52566 to 0.53577, saving model to data/weights/attn_weights-improvement-29-0.54.h5\n",
      "50000/50000 [==============================] - 441s - loss: 2.8902 - acc: 0.5358   \n",
      "Epoch 31/100\n",
      "50000/50000 [==============================] - 440s - loss: 2.8671 - acc: 0.5369   \n",
      "Epoch 32/100\n",
      "50000/50000 [==============================] - 439s - loss: 2.8448 - acc: 0.5380   \n",
      "Epoch 33/100\n",
      "50000/50000 [==============================] - 439s - loss: 2.8220 - acc: 0.5391   \n",
      "Epoch 34/100\n",
      "50000/50000 [==============================] - 440s - loss: 2.8031 - acc: 0.5398   \n",
      "Epoch 35/100\n",
      "50000/50000 [==============================] - 440s - loss: 2.7821 - acc: 0.5405   \n",
      "Epoch 36/100\n",
      "50000/50000 [==============================] - 439s - loss: 2.7613 - acc: 0.5417   \n",
      "Epoch 37/100\n",
      "50000/50000 [==============================] - 440s - loss: 2.7420 - acc: 0.5427   \n",
      "Epoch 38/100\n",
      "50000/50000 [==============================] - 439s - loss: 2.7234 - acc: 0.5437   \n",
      "Epoch 39/100\n",
      "50000/50000 [==============================] - 440s - loss: 2.7036 - acc: 0.5441   \n",
      "Epoch 40/100\n",
      "49800/50000 [============================>.] - ETA: 1s - loss: 2.6846 - acc: 0.5457Epoch 00039: acc improved from 0.53577 to 0.54566, saving model to data/weights/attn_weights-improvement-39-0.55.h5\n",
      "50000/50000 [==============================] - 440s - loss: 2.6846 - acc: 0.5457   \n",
      "Epoch 41/100\n",
      "50000/50000 [==============================] - 440s - loss: 2.6663 - acc: 0.5464   \n",
      "Epoch 42/100\n",
      "50000/50000 [==============================] - 439s - loss: 2.6491 - acc: 0.5471   \n",
      "Epoch 43/100\n",
      "50000/50000 [==============================] - 439s - loss: 2.6309 - acc: 0.5483   \n",
      "Epoch 44/100\n",
      "50000/50000 [==============================] - 439s - loss: 2.6141 - acc: 0.5491   \n",
      "Epoch 45/100\n",
      "50000/50000 [==============================] - 439s - loss: 2.5982 - acc: 0.5500   \n",
      "Epoch 46/100\n",
      "50000/50000 [==============================] - 440s - loss: 2.5811 - acc: 0.5510   \n",
      "Epoch 47/100\n",
      "50000/50000 [==============================] - 440s - loss: 2.5639 - acc: 0.5519   \n",
      "Epoch 48/100\n",
      "50000/50000 [==============================] - 440s - loss: 2.5489 - acc: 0.5525   \n",
      "Epoch 49/100\n",
      "50000/50000 [==============================] - 440s - loss: 2.5349 - acc: 0.5531   \n",
      "Epoch 50/100\n",
      "49800/50000 [============================>.] - ETA: 1s - loss: 2.5166 - acc: 0.5545Epoch 00049: acc improved from 0.54566 to 0.55454, saving model to data/weights/attn_weights-improvement-49-0.55.h5\n",
      "50000/50000 [==============================] - 441s - loss: 2.5171 - acc: 0.5545   \n",
      "Epoch 51/100\n",
      "50000/50000 [==============================] - 440s - loss: 2.5027 - acc: 0.5552   \n",
      "Epoch 52/100\n",
      "50000/50000 [==============================] - 439s - loss: 2.4875 - acc: 0.5562   \n",
      "Epoch 53/100\n",
      "50000/50000 [==============================] - 440s - loss: 2.4734 - acc: 0.5571   \n",
      "Epoch 54/100\n",
      "50000/50000 [==============================] - 439s - loss: 2.4580 - acc: 0.5582   \n",
      "Epoch 55/100\n",
      "50000/50000 [==============================] - 439s - loss: 2.4451 - acc: 0.5588   \n",
      "Epoch 56/100\n",
      "50000/50000 [==============================] - 439s - loss: 2.4318 - acc: 0.5597   \n",
      "Epoch 57/100\n",
      "50000/50000 [==============================] - 439s - loss: 2.4173 - acc: 0.5607   \n",
      "Epoch 58/100\n",
      "50000/50000 [==============================] - 439s - loss: 2.4041 - acc: 0.5611   \n",
      "Epoch 59/100\n",
      "50000/50000 [==============================] - 439s - loss: 2.3925 - acc: 0.5622   \n",
      "Epoch 60/100\n",
      "49800/50000 [============================>.] - ETA: 1s - loss: 2.3781 - acc: 0.5631Epoch 00059: acc improved from 0.55454 to 0.56312, saving model to data/weights/attn_weights-improvement-59-0.56.h5\n",
      "50000/50000 [==============================] - 440s - loss: 2.3782 - acc: 0.5631   \n",
      "Epoch 61/100\n",
      "50000/50000 [==============================] - 439s - loss: 2.3646 - acc: 0.5640   \n",
      "Epoch 62/100\n",
      "50000/50000 [==============================] - 439s - loss: 2.3515 - acc: 0.5645   \n",
      "Epoch 63/100\n",
      "50000/50000 [==============================] - 439s - loss: 2.3402 - acc: 0.5658   \n",
      "Epoch 64/100\n",
      "50000/50000 [==============================] - 439s - loss: 2.3290 - acc: 0.5663   \n",
      "Epoch 65/100\n"
     ]
    },
    {
     "name": "stdout",
     "output_type": "stream",
     "text": [
      "50000/50000 [==============================] - 439s - loss: 2.3159 - acc: 0.5673   \n",
      "Epoch 66/100\n",
      "50000/50000 [==============================] - 439s - loss: 2.3046 - acc: 0.5683   \n",
      "Epoch 67/100\n",
      "50000/50000 [==============================] - 439s - loss: 2.2949 - acc: 0.5689   \n",
      "Epoch 68/100\n",
      "50000/50000 [==============================] - 439s - loss: 2.2819 - acc: 0.5695   \n",
      "Epoch 69/100\n",
      "50000/50000 [==============================] - 439s - loss: 2.2700 - acc: 0.5708   \n",
      "Epoch 70/100\n",
      "49800/50000 [============================>.] - ETA: 1s - loss: 2.2603 - acc: 0.5712Epoch 00069: acc improved from 0.56312 to 0.57125, saving model to data/weights/attn_weights-improvement-69-0.57.h5\n",
      "50000/50000 [==============================] - 440s - loss: 2.2602 - acc: 0.5712   \n",
      "Epoch 71/100\n",
      "50000/50000 [==============================] - 439s - loss: 2.2515 - acc: 0.5718   \n",
      "Epoch 72/100\n",
      "50000/50000 [==============================] - 439s - loss: 2.2373 - acc: 0.5734   \n",
      "Epoch 73/100\n",
      "50000/50000 [==============================] - 439s - loss: 2.2281 - acc: 0.5732   \n",
      "Epoch 74/100\n",
      "50000/50000 [==============================] - 439s - loss: 2.2172 - acc: 0.5744   \n",
      "Epoch 75/100\n",
      "50000/50000 [==============================] - 439s - loss: 2.2076 - acc: 0.5749   \n",
      "Epoch 76/100\n",
      "50000/50000 [==============================] - 439s - loss: 2.1966 - acc: 0.5756   \n",
      "Epoch 77/100\n",
      "50000/50000 [==============================] - 439s - loss: 2.1861 - acc: 0.5768   \n",
      "Epoch 78/100\n",
      "50000/50000 [==============================] - 439s - loss: 2.1764 - acc: 0.5773   \n",
      "Epoch 79/100\n",
      "50000/50000 [==============================] - 439s - loss: 2.1663 - acc: 0.5784   \n",
      "Epoch 80/100\n",
      "49800/50000 [============================>.] - ETA: 1s - loss: 2.1570 - acc: 0.5794Epoch 00079: acc improved from 0.57125 to 0.57945, saving model to data/weights/attn_weights-improvement-79-0.58.h5\n",
      "50000/50000 [==============================] - 440s - loss: 2.1569 - acc: 0.5794   \n",
      "Epoch 81/100\n",
      "50000/50000 [==============================] - 439s - loss: 2.1460 - acc: 0.5800   \n",
      "Epoch 82/100\n",
      "50000/50000 [==============================] - 439s - loss: 2.1378 - acc: 0.5807   \n",
      "Epoch 83/100\n",
      "50000/50000 [==============================] - 439s - loss: 2.1281 - acc: 0.5814   \n",
      "Epoch 84/100\n",
      "50000/50000 [==============================] - 439s - loss: 2.1195 - acc: 0.5822   \n",
      "Epoch 85/100\n",
      "50000/50000 [==============================] - 439s - loss: 2.1101 - acc: 0.5827   \n",
      "Epoch 86/100\n",
      "50000/50000 [==============================] - 439s - loss: 2.1024 - acc: 0.5840   \n",
      "Epoch 87/100\n",
      "50000/50000 [==============================] - 439s - loss: 2.0942 - acc: 0.5843   \n",
      "Epoch 88/100\n",
      "50000/50000 [==============================] - 439s - loss: 2.0860 - acc: 0.5850   \n",
      "Epoch 89/100\n",
      "50000/50000 [==============================] - 439s - loss: 2.0744 - acc: 0.5861   \n",
      "Epoch 90/100\n",
      "49800/50000 [============================>.] - ETA: 1s - loss: 2.0661 - acc: 0.5870Epoch 00089: acc improved from 0.57945 to 0.58689, saving model to data/weights/attn_weights-improvement-89-0.59.h5\n",
      "50000/50000 [==============================] - 439s - loss: 2.0670 - acc: 0.5869   \n",
      "Epoch 91/100\n",
      "50000/50000 [==============================] - 439s - loss: 2.0579 - acc: 0.5879   \n",
      "Epoch 92/100\n",
      "50000/50000 [==============================] - 439s - loss: 2.0511 - acc: 0.5879   \n",
      "Epoch 93/100\n",
      "50000/50000 [==============================] - 439s - loss: 2.0428 - acc: 0.5886   \n",
      "Epoch 94/100\n",
      "50000/50000 [==============================] - 438s - loss: 2.0332 - acc: 0.5897   \n",
      "Epoch 95/100\n",
      "50000/50000 [==============================] - 439s - loss: 2.0269 - acc: 0.5906   \n",
      "Epoch 96/100\n",
      "50000/50000 [==============================] - 439s - loss: 2.0201 - acc: 0.5905   \n",
      "Epoch 97/100\n",
      "50000/50000 [==============================] - 439s - loss: 2.0104 - acc: 0.5922   \n",
      "Epoch 98/100\n",
      "50000/50000 [==============================] - 439s - loss: 2.0035 - acc: 0.5925   \n",
      "Epoch 99/100\n",
      " 7800/50000 [===>..........................] - ETA: 370s - loss: 1.9455 - acc: 0.5989"
     ]
    },
    {
     "ename": "KeyboardInterrupt",
     "evalue": "",
     "output_type": "error",
     "traceback": [
      "\u001b[0;31m---------------------------------------------------------------------------\u001b[0m",
      "\u001b[0;31mKeyboardInterrupt\u001b[0m                         Traceback (most recent call last)",
      "\u001b[0;32m<ipython-input-18-17f052388f70>\u001b[0m in \u001b[0;36m<module>\u001b[0;34m()\u001b[0m\n\u001b[1;32m     13\u001b[0m           \u001b[0mepochs\u001b[0m\u001b[0;34m=\u001b[0m\u001b[0mEPOCHS\u001b[0m\u001b[0;34m,\u001b[0m\u001b[0;34m\u001b[0m\u001b[0m\n\u001b[1;32m     14\u001b[0m           \u001b[0mshuffle\u001b[0m\u001b[0;34m=\u001b[0m\u001b[0;32mTrue\u001b[0m\u001b[0;34m,\u001b[0m\u001b[0;34m\u001b[0m\u001b[0m\n\u001b[0;32m---> 15\u001b[0;31m           callbacks=[checkpoint])\n\u001b[0m\u001b[1;32m     16\u001b[0m \u001b[0;34m\u001b[0m\u001b[0m\n",
      "\u001b[0;32m/usr/local/lib/python3.4/dist-packages/keras/models.py\u001b[0m in \u001b[0;36mfit\u001b[0;34m(self, x, y, batch_size, epochs, verbose, callbacks, validation_split, validation_data, shuffle, class_weight, sample_weight, initial_epoch, **kwargs)\u001b[0m\n\u001b[1;32m    865\u001b[0m                               \u001b[0mclass_weight\u001b[0m\u001b[0;34m=\u001b[0m\u001b[0mclass_weight\u001b[0m\u001b[0;34m,\u001b[0m\u001b[0;34m\u001b[0m\u001b[0m\n\u001b[1;32m    866\u001b[0m                               \u001b[0msample_weight\u001b[0m\u001b[0;34m=\u001b[0m\u001b[0msample_weight\u001b[0m\u001b[0;34m,\u001b[0m\u001b[0;34m\u001b[0m\u001b[0m\n\u001b[0;32m--> 867\u001b[0;31m                               initial_epoch=initial_epoch)\n\u001b[0m\u001b[1;32m    868\u001b[0m \u001b[0;34m\u001b[0m\u001b[0m\n\u001b[1;32m    869\u001b[0m     def evaluate(self, x, y, batch_size=32, verbose=1,\n",
      "\u001b[0;32m/usr/local/lib/python3.4/dist-packages/keras/engine/training.py\u001b[0m in \u001b[0;36mfit\u001b[0;34m(self, x, y, batch_size, epochs, verbose, callbacks, validation_split, validation_data, shuffle, class_weight, sample_weight, initial_epoch, steps_per_epoch, validation_steps, **kwargs)\u001b[0m\n\u001b[1;32m   1596\u001b[0m                               \u001b[0minitial_epoch\u001b[0m\u001b[0;34m=\u001b[0m\u001b[0minitial_epoch\u001b[0m\u001b[0;34m,\u001b[0m\u001b[0;34m\u001b[0m\u001b[0m\n\u001b[1;32m   1597\u001b[0m                               \u001b[0msteps_per_epoch\u001b[0m\u001b[0;34m=\u001b[0m\u001b[0msteps_per_epoch\u001b[0m\u001b[0;34m,\u001b[0m\u001b[0;34m\u001b[0m\u001b[0m\n\u001b[0;32m-> 1598\u001b[0;31m                               validation_steps=validation_steps)\n\u001b[0m\u001b[1;32m   1599\u001b[0m \u001b[0;34m\u001b[0m\u001b[0m\n\u001b[1;32m   1600\u001b[0m     def evaluate(self, x, y,\n",
      "\u001b[0;32m/usr/local/lib/python3.4/dist-packages/keras/engine/training.py\u001b[0m in \u001b[0;36m_fit_loop\u001b[0;34m(self, f, ins, out_labels, batch_size, epochs, verbose, callbacks, val_f, val_ins, shuffle, callback_metrics, initial_epoch, steps_per_epoch, validation_steps)\u001b[0m\n\u001b[1;32m   1181\u001b[0m                     \u001b[0mbatch_logs\u001b[0m\u001b[0;34m[\u001b[0m\u001b[0;34m'size'\u001b[0m\u001b[0;34m]\u001b[0m \u001b[0;34m=\u001b[0m \u001b[0mlen\u001b[0m\u001b[0;34m(\u001b[0m\u001b[0mbatch_ids\u001b[0m\u001b[0;34m)\u001b[0m\u001b[0;34m\u001b[0m\u001b[0m\n\u001b[1;32m   1182\u001b[0m                     \u001b[0mcallbacks\u001b[0m\u001b[0;34m.\u001b[0m\u001b[0mon_batch_begin\u001b[0m\u001b[0;34m(\u001b[0m\u001b[0mbatch_index\u001b[0m\u001b[0;34m,\u001b[0m \u001b[0mbatch_logs\u001b[0m\u001b[0;34m)\u001b[0m\u001b[0;34m\u001b[0m\u001b[0m\n\u001b[0;32m-> 1183\u001b[0;31m                     \u001b[0mouts\u001b[0m \u001b[0;34m=\u001b[0m \u001b[0mf\u001b[0m\u001b[0;34m(\u001b[0m\u001b[0mins_batch\u001b[0m\u001b[0;34m)\u001b[0m\u001b[0;34m\u001b[0m\u001b[0m\n\u001b[0m\u001b[1;32m   1184\u001b[0m                     \u001b[0;32mif\u001b[0m \u001b[0;32mnot\u001b[0m \u001b[0misinstance\u001b[0m\u001b[0;34m(\u001b[0m\u001b[0mouts\u001b[0m\u001b[0;34m,\u001b[0m \u001b[0mlist\u001b[0m\u001b[0;34m)\u001b[0m\u001b[0;34m:\u001b[0m\u001b[0;34m\u001b[0m\u001b[0m\n\u001b[1;32m   1185\u001b[0m                         \u001b[0mouts\u001b[0m \u001b[0;34m=\u001b[0m \u001b[0;34m[\u001b[0m\u001b[0mouts\u001b[0m\u001b[0;34m]\u001b[0m\u001b[0;34m\u001b[0m\u001b[0m\n",
      "\u001b[0;32m/usr/local/lib/python3.4/dist-packages/keras/backend/tensorflow_backend.py\u001b[0m in \u001b[0;36m__call__\u001b[0;34m(self, inputs)\u001b[0m\n\u001b[1;32m   2271\u001b[0m         updated = session.run(self.outputs + [self.updates_op],\n\u001b[1;32m   2272\u001b[0m                               \u001b[0mfeed_dict\u001b[0m\u001b[0;34m=\u001b[0m\u001b[0mfeed_dict\u001b[0m\u001b[0;34m,\u001b[0m\u001b[0;34m\u001b[0m\u001b[0m\n\u001b[0;32m-> 2273\u001b[0;31m                               **self.session_kwargs)\n\u001b[0m\u001b[1;32m   2274\u001b[0m         \u001b[0;32mreturn\u001b[0m \u001b[0mupdated\u001b[0m\u001b[0;34m[\u001b[0m\u001b[0;34m:\u001b[0m\u001b[0mlen\u001b[0m\u001b[0;34m(\u001b[0m\u001b[0mself\u001b[0m\u001b[0;34m.\u001b[0m\u001b[0moutputs\u001b[0m\u001b[0;34m)\u001b[0m\u001b[0;34m]\u001b[0m\u001b[0;34m\u001b[0m\u001b[0m\n\u001b[1;32m   2275\u001b[0m \u001b[0;34m\u001b[0m\u001b[0m\n",
      "\u001b[0;32m/usr/local/lib/python3.4/dist-packages/tensorflow/python/client/session.py\u001b[0m in \u001b[0;36mrun\u001b[0;34m(self, fetches, feed_dict, options, run_metadata)\u001b[0m\n\u001b[1;32m    887\u001b[0m     \u001b[0;32mtry\u001b[0m\u001b[0;34m:\u001b[0m\u001b[0;34m\u001b[0m\u001b[0m\n\u001b[1;32m    888\u001b[0m       result = self._run(None, fetches, feed_dict, options_ptr,\n\u001b[0;32m--> 889\u001b[0;31m                          run_metadata_ptr)\n\u001b[0m\u001b[1;32m    890\u001b[0m       \u001b[0;32mif\u001b[0m \u001b[0mrun_metadata\u001b[0m\u001b[0;34m:\u001b[0m\u001b[0;34m\u001b[0m\u001b[0m\n\u001b[1;32m    891\u001b[0m         \u001b[0mproto_data\u001b[0m \u001b[0;34m=\u001b[0m \u001b[0mtf_session\u001b[0m\u001b[0;34m.\u001b[0m\u001b[0mTF_GetBuffer\u001b[0m\u001b[0;34m(\u001b[0m\u001b[0mrun_metadata_ptr\u001b[0m\u001b[0;34m)\u001b[0m\u001b[0;34m\u001b[0m\u001b[0m\n",
      "\u001b[0;32m/usr/local/lib/python3.4/dist-packages/tensorflow/python/client/session.py\u001b[0m in \u001b[0;36m_run\u001b[0;34m(self, handle, fetches, feed_dict, options, run_metadata)\u001b[0m\n\u001b[1;32m   1118\u001b[0m     \u001b[0;32mif\u001b[0m \u001b[0mfinal_fetches\u001b[0m \u001b[0;32mor\u001b[0m \u001b[0mfinal_targets\u001b[0m \u001b[0;32mor\u001b[0m \u001b[0;34m(\u001b[0m\u001b[0mhandle\u001b[0m \u001b[0;32mand\u001b[0m \u001b[0mfeed_dict_tensor\u001b[0m\u001b[0;34m)\u001b[0m\u001b[0;34m:\u001b[0m\u001b[0;34m\u001b[0m\u001b[0m\n\u001b[1;32m   1119\u001b[0m       results = self._do_run(handle, final_targets, final_fetches,\n\u001b[0;32m-> 1120\u001b[0;31m                              feed_dict_tensor, options, run_metadata)\n\u001b[0m\u001b[1;32m   1121\u001b[0m     \u001b[0;32melse\u001b[0m\u001b[0;34m:\u001b[0m\u001b[0;34m\u001b[0m\u001b[0m\n\u001b[1;32m   1122\u001b[0m       \u001b[0mresults\u001b[0m \u001b[0;34m=\u001b[0m \u001b[0;34m[\u001b[0m\u001b[0;34m]\u001b[0m\u001b[0;34m\u001b[0m\u001b[0m\n",
      "\u001b[0;32m/usr/local/lib/python3.4/dist-packages/tensorflow/python/client/session.py\u001b[0m in \u001b[0;36m_do_run\u001b[0;34m(self, handle, target_list, fetch_list, feed_dict, options, run_metadata)\u001b[0m\n\u001b[1;32m   1315\u001b[0m     \u001b[0;32mif\u001b[0m \u001b[0mhandle\u001b[0m \u001b[0;32mis\u001b[0m \u001b[0;32mNone\u001b[0m\u001b[0;34m:\u001b[0m\u001b[0;34m\u001b[0m\u001b[0m\n\u001b[1;32m   1316\u001b[0m       return self._do_call(_run_fn, self._session, feeds, fetches, targets,\n\u001b[0;32m-> 1317\u001b[0;31m                            options, run_metadata)\n\u001b[0m\u001b[1;32m   1318\u001b[0m     \u001b[0;32melse\u001b[0m\u001b[0;34m:\u001b[0m\u001b[0;34m\u001b[0m\u001b[0m\n\u001b[1;32m   1319\u001b[0m       \u001b[0;32mreturn\u001b[0m \u001b[0mself\u001b[0m\u001b[0;34m.\u001b[0m\u001b[0m_do_call\u001b[0m\u001b[0;34m(\u001b[0m\u001b[0m_prun_fn\u001b[0m\u001b[0;34m,\u001b[0m \u001b[0mself\u001b[0m\u001b[0;34m.\u001b[0m\u001b[0m_session\u001b[0m\u001b[0;34m,\u001b[0m \u001b[0mhandle\u001b[0m\u001b[0;34m,\u001b[0m \u001b[0mfeeds\u001b[0m\u001b[0;34m,\u001b[0m \u001b[0mfetches\u001b[0m\u001b[0;34m)\u001b[0m\u001b[0;34m\u001b[0m\u001b[0m\n",
      "\u001b[0;32m/usr/local/lib/python3.4/dist-packages/tensorflow/python/client/session.py\u001b[0m in \u001b[0;36m_do_call\u001b[0;34m(self, fn, *args)\u001b[0m\n\u001b[1;32m   1321\u001b[0m   \u001b[0;32mdef\u001b[0m \u001b[0m_do_call\u001b[0m\u001b[0;34m(\u001b[0m\u001b[0mself\u001b[0m\u001b[0;34m,\u001b[0m \u001b[0mfn\u001b[0m\u001b[0;34m,\u001b[0m \u001b[0;34m*\u001b[0m\u001b[0margs\u001b[0m\u001b[0;34m)\u001b[0m\u001b[0;34m:\u001b[0m\u001b[0;34m\u001b[0m\u001b[0m\n\u001b[1;32m   1322\u001b[0m     \u001b[0;32mtry\u001b[0m\u001b[0;34m:\u001b[0m\u001b[0;34m\u001b[0m\u001b[0m\n\u001b[0;32m-> 1323\u001b[0;31m       \u001b[0;32mreturn\u001b[0m \u001b[0mfn\u001b[0m\u001b[0;34m(\u001b[0m\u001b[0;34m*\u001b[0m\u001b[0margs\u001b[0m\u001b[0;34m)\u001b[0m\u001b[0;34m\u001b[0m\u001b[0m\n\u001b[0m\u001b[1;32m   1324\u001b[0m     \u001b[0;32mexcept\u001b[0m \u001b[0merrors\u001b[0m\u001b[0;34m.\u001b[0m\u001b[0mOpError\u001b[0m \u001b[0;32mas\u001b[0m \u001b[0me\u001b[0m\u001b[0;34m:\u001b[0m\u001b[0;34m\u001b[0m\u001b[0m\n\u001b[1;32m   1325\u001b[0m       \u001b[0mmessage\u001b[0m \u001b[0;34m=\u001b[0m \u001b[0mcompat\u001b[0m\u001b[0;34m.\u001b[0m\u001b[0mas_text\u001b[0m\u001b[0;34m(\u001b[0m\u001b[0me\u001b[0m\u001b[0;34m.\u001b[0m\u001b[0mmessage\u001b[0m\u001b[0;34m)\u001b[0m\u001b[0;34m\u001b[0m\u001b[0m\n",
      "\u001b[0;32m/usr/local/lib/python3.4/dist-packages/tensorflow/python/client/session.py\u001b[0m in \u001b[0;36m_run_fn\u001b[0;34m(session, feed_dict, fetch_list, target_list, options, run_metadata)\u001b[0m\n\u001b[1;32m   1300\u001b[0m           return tf_session.TF_Run(session, options,\n\u001b[1;32m   1301\u001b[0m                                    \u001b[0mfeed_dict\u001b[0m\u001b[0;34m,\u001b[0m \u001b[0mfetch_list\u001b[0m\u001b[0;34m,\u001b[0m \u001b[0mtarget_list\u001b[0m\u001b[0;34m,\u001b[0m\u001b[0;34m\u001b[0m\u001b[0m\n\u001b[0;32m-> 1302\u001b[0;31m                                    status, run_metadata)\n\u001b[0m\u001b[1;32m   1303\u001b[0m \u001b[0;34m\u001b[0m\u001b[0m\n\u001b[1;32m   1304\u001b[0m     \u001b[0;32mdef\u001b[0m \u001b[0m_prun_fn\u001b[0m\u001b[0;34m(\u001b[0m\u001b[0msession\u001b[0m\u001b[0;34m,\u001b[0m \u001b[0mhandle\u001b[0m\u001b[0;34m,\u001b[0m \u001b[0mfeed_dict\u001b[0m\u001b[0;34m,\u001b[0m \u001b[0mfetch_list\u001b[0m\u001b[0;34m)\u001b[0m\u001b[0;34m:\u001b[0m\u001b[0;34m\u001b[0m\u001b[0m\n",
      "\u001b[0;31mKeyboardInterrupt\u001b[0m: "
     ]
    }
   ],
   "source": [
    "from keras.callbacks import TensorBoard, ModelCheckpoint\n",
    "\n",
    "model = create_UniLSTMwithAttention(X_vocab_len, X_max_len, y_vocab_len, y_max_len, HIDDEN_DIM)\n",
    "\n",
    "tensorboard = TensorBoard(log_dir=\"data/logs/{}_{}\".format(\"attn\",time()))\n",
    "filepath=\"data/weights/attn_weights-improvement-{epoch:02d}-{acc:.2f}.h5\"\n",
    "checkpoint = ModelCheckpoint(filepath, monitor='acc', verbose=1, save_best_only=True, mode='max', period=10)\n",
    "\n",
    "\n",
    "print('Train...')\n",
    "model.fit(X_train_data,np.expand_dims(y_train_data, axis=-1),\n",
    "          batch_size=BATCH_SIZE,\n",
    "          epochs=EPOCHS,\n",
    "          shuffle=True,\n",
    "          callbacks=[checkpoint])\n",
    "\n"
   ]
  },
  {
   "cell_type": "code",
   "execution_count": 20,
   "metadata": {},
   "outputs": [
    {
     "name": "stdout",
     "output_type": "stream",
     "text": [
      "Saving model...\n"
     ]
    }
   ],
   "source": [
    "print('Saving model...')\n",
    "model.save_weights('data/weights/good_Attn_weights.h5')"
   ]
  },
  {
   "cell_type": "markdown",
   "metadata": {},
   "source": [
    "## Evaluation using Rouge Score"
   ]
  },
  {
   "cell_type": "markdown",
   "metadata": {},
   "source": [
    "Evaluate your model as before, using Rouge score. Ideally, your scores for the model with attention should be better than the model without attention"
   ]
  },
  {
   "cell_type": "code",
   "execution_count": 277,
   "metadata": {},
   "outputs": [
    {
     "name": "stdout",
     "output_type": "stream",
     "text": [
      "london london london london london share prices up at midday\n",
      "london london london london london share prices lower at midday\n",
      "liverpool liverpool liverpool says says he he to to to for to UNK\n",
      "struggle UNK namibia namibia matches world cup\n",
      "open open UNK open open open u s open\n",
      "Calculating rouge scores...\n"
     ]
    },
    {
     "data": {
      "text/plain": [
       "{'rouge-1': {'f': 0.20578345893533173,\n",
       "  'p': 0.29359017563559769,\n",
       "  'r': 0.17406977971658136},\n",
       " 'rouge-2': {'f': 0.049910955217185596,\n",
       "  'p': 0.047189525467628592,\n",
       "  'r': 0.056722237117894876},\n",
       " 'rouge-l': {'f': 0.13866889437197633,\n",
       "  'p': 0.13766678406236199,\n",
       "  'r': 0.16692172742941139}}"
      ]
     },
     "execution_count": 277,
     "metadata": {},
     "output_type": "execute_result"
    }
   ],
   "source": [
    "test_articles = \"data/test_article.txt\"\n",
    "ref_file = \"data/test_results.txt\"\n",
    "hyp_file = \"data/test_title.txt\"\n",
    "\n",
    "hyps = to_strings(load_file(hyp_file))\n",
    "X_test = load_test_data(test_articles, X_word2idx, X_max_len)\n",
    "preds = make_predictions(model, X_test, y_idx2word, print_results=True, prnt_num=5)\n",
    "get_rouge_scores(hyps, preds, avg=True)\n"
   ]
  },
  {
   "cell_type": "markdown",
   "metadata": {},
   "source": [
    "## Analysis"
   ]
  },
  {
   "cell_type": "markdown",
   "metadata": {},
   "source": [
    "Below we visualize the attention weights for a sentence and output. If a grid cell is white in the plot, it means that during summary, the word on x-axis corresponds to the word on y-axis. Note the analysis is fairly difficult given several issues such as repeating words, etc that are inherent to abstractive summarization with seq2seq models."
   ]
  },
  {
   "cell_type": "code",
   "execution_count": 33,
   "metadata": {
    "collapsed": true
   },
   "outputs": [],
   "source": [
    "import argparse\n",
    "import os\n",
    "\n",
    "import numpy as np\n",
    "import matplotlib.pyplot as plt\n",
    "import matplotlib.patches as mpatches\n",
    "%matplotlib inline"
   ]
  },
  {
   "cell_type": "code",
   "execution_count": 150,
   "metadata": {
    "collapsed": true
   },
   "outputs": [],
   "source": [
    "class Visualizer(object):\n",
    "\n",
    "    def __init__(self):\n",
    "        \"\"\"\n",
    "            Visualizes attention maps\n",
    "        \"\"\"\n",
    "        \n",
    "        \n",
    "    def set_models(self, pred_model, proba_model):\n",
    "        \"\"\"\n",
    "            Sets the models to use\n",
    "            :param pred_model: the prediction model\n",
    "            :param proba_model: the model that outputs the activation maps\n",
    "        \"\"\"\n",
    "        self.pred_model = pred_model\n",
    "        self.proba_model = proba_model\n",
    "\n",
    "    def attention_map(self, text, padded_data_vec, y_idx_to_word):\n",
    "        \"\"\"\n",
    "            Displays the attention weights graph\n",
    "            param: input sentence\n",
    "            param: padded_data_vector for prediction\n",
    "            param: idx2word dictionary for titles\n",
    "        \"\"\"\n",
    "        input_length = len(text.split())\n",
    "        \n",
    "        # get the output sequence\n",
    "        prediction = np.argmax(self.pred_model.predict(padded_data_vec), axis=2)[0]\n",
    "        text_ = text.split()\n",
    "        valids = [y_idx_to_word[index] for index in prediction if index > 0]\n",
    "        sequence = ' '.join(valids)\n",
    "        predicted_text = sequence.split()\n",
    "        output_length = len(predicted_text)\n",
    "        #get the weights\n",
    "        activation_map = np.squeeze(self.proba_model.predict(padded_data_vec))[\n",
    "            0:output_length, 0:input_length]\n",
    "        \n",
    "        plt.clf()\n",
    "        f = plt.figure(figsize=(8, 8.5))\n",
    "        ax = f.add_subplot(1, 1, 1)\n",
    "\n",
    "        # add image\n",
    "        #i = ax.imshow(activation_map, interpolation='nearest', cmap='gray')\n",
    "        i = ax.imshow(np.log(activation_map), interpolation='nearest', cmap='gray')\n",
    "        \n",
    "        # add colorbar\n",
    "        cbaxes = f.add_axes([0.2, 0, 0.6, 0.03])\n",
    "        cbar = f.colorbar(i, cax=cbaxes, orientation='horizontal')\n",
    "        cbar.ax.set_xlabel('Probability', labelpad=2)\n",
    "\n",
    "        # add labels\n",
    "        ax.set_yticks(range(output_length))\n",
    "        ax.set_yticklabels(predicted_text[:output_length])\n",
    "        \n",
    "        ax.set_xticks(range(input_length))\n",
    "        ax.set_xticklabels(text_[:input_length], rotation=45)\n",
    "        \n",
    "        ax.set_xlabel('Input Sequence')\n",
    "        ax.set_ylabel('Output Sequence')\n",
    "\n",
    "        # add grid and legend\n",
    "        ax.grid()\n",
    "        \n",
    "        f.show()\n",
    "        #f.savefig('filename') "
   ]
  },
  {
   "cell_type": "code",
   "execution_count": 151,
   "metadata": {
    "collapsed": true
   },
   "outputs": [],
   "source": [
    "viz = Visualizer()"
   ]
  },
  {
   "cell_type": "code",
   "execution_count": 25,
   "metadata": {},
   "outputs": [
    {
     "name": "stdout",
     "output_type": "stream",
     "text": [
      "Time to compile: 0.05495190620422363\n",
      "\n",
      "_________________________________________________________________\n",
      "Layer (type)                 Output Shape              Param #   \n",
      "=================================================================\n",
      "embedding_6 (Embedding)      (None, 20, 128)           1280256   \n",
      "_________________________________________________________________\n",
      "lstm_6 (LSTM)                (None, 20, 128)           131584    \n",
      "_________________________________________________________________\n",
      "AttentionDecoder (AttentionD (None, 20, 20)            106599382 \n",
      "=================================================================\n",
      "Total params: 108,011,222\n",
      "Trainable params: 108,011,222\n",
      "Non-trainable params: 0\n",
      "_________________________________________________________________\n",
      "None\n"
     ]
    }
   ],
   "source": [
    "prob_model = create_UniLSTMwithAttention(X_vocab_len,X_max_len,y_vocab_len,y_max_len,HIDDEN_DIM,return_probabilities=True)\n",
    "prob_model.load_weights('data/weights/good_Attn_weights.h5')"
   ]
  },
  {
   "cell_type": "code",
   "execution_count": 152,
   "metadata": {
    "collapsed": true
   },
   "outputs": [],
   "source": [
    "viz.set_models(model,prob_model)"
   ]
  },
  {
   "cell_type": "code",
   "execution_count": 29,
   "metadata": {
    "collapsed": true
   },
   "outputs": [],
   "source": [
    "test_articles = \"data/test_article.txt\"\n",
    "hyp_file = \"data/test_title.txt\"\n",
    "\n",
    "hyps = to_strings(load_file(hyp_file))\n",
    "X_test = load_test_data(test_articles, X_word2idx, X_max_len)"
   ]
  },
  {
   "cell_type": "code",
   "execution_count": 135,
   "metadata": {
    "collapsed": true
   },
   "outputs": [],
   "source": [
    "def viz_samples(lst, text, test_data_vector, y_idx2word):\n",
    "    for i in lst:\n",
    "        test_data_vector = np.reshape(X_test[i],(1,20))\n",
    "        viz.attention_map(text[i], test_data_vector, y_idx2word)"
   ]
  },
  {
   "cell_type": "markdown",
   "metadata": {},
   "source": [
    "## Examples"
   ]
  },
  {
   "cell_type": "markdown",
   "metadata": {},
   "source": [
    "__Analysis:__\n",
    "The first two examples show semantic correctness in addition to good levels of abstractive summarization such as in example 2. In example 3 relating to Pakistan the model appears to be doing more extractive summarization as opposed to abstractive summarization which led to a good result. Furthermore in example 3 the words of meaningful importance have higher weights relative to less important as you'd expect such as \"loan\" and \"valencia\". Repeat words are clearly an issue with the model and in later sections we see the repeat words often take the place for unknown words in the gold summary. Typically when the model has several repeat words we can also note an issue with compressing where the prediction is longer than the gold standard. Example 2 is quite interesting because the model is almost entirely performing abstrative summarization and while it does not match the gold standard 100% the model captures the crux of the meaning of the sentence. \n"
   ]
  },
  {
   "cell_type": "code",
   "execution_count": 153,
   "metadata": {},
   "outputs": [
    {
     "name": "stderr",
     "output_type": "stream",
     "text": [
      "/usr/local/lib/python3.4/dist-packages/matplotlib/figure.py:418: UserWarning: matplotlib is currently using a non-GUI backend, so cannot show the figure\n",
      "  \"matplotlib is currently using a non-GUI backend, \"\n"
     ]
    },
    {
     "data": {
      "text/plain": [
       "<matplotlib.figure.Figure at 0x7fd9e6943588>"
      ]
     },
     "metadata": {},
     "output_type": "display_data"
    },
    {
     "data": {
      "image/png": "[encoded data removed]",
      "text/plain": [
       "<matplotlib.figure.Figure at 0x7fd9e6c1c668>"
      ]
     },
     "metadata": {},
     "output_type": "display_data"
    }
   ],
   "source": [
    "viz.attention_map(hyps[1], np.reshape(X_test[1],(1,20)), y_idx2word)"
   ]
  },
  {
   "cell_type": "code",
   "execution_count": 159,
   "metadata": {},
   "outputs": [
    {
     "name": "stderr",
     "output_type": "stream",
     "text": [
      "/usr/local/lib/python3.4/dist-packages/matplotlib/figure.py:418: UserWarning: matplotlib is currently using a non-GUI backend, so cannot show the figure\n",
      "  \"matplotlib is currently using a non-GUI backend, \"\n"
     ]
    },
    {
     "data": {
      "text/plain": [
       "<matplotlib.figure.Figure at 0x7fd9e75e1278>"
      ]
     },
     "metadata": {},
     "output_type": "display_data"
    },
    {
     "data": {
      "image/png": "[encoded data removed]",
      "text/plain": [
       "<matplotlib.figure.Figure at 0x7fd9e75ee7b8>"
      ]
     },
     "metadata": {},
     "output_type": "display_data"
    }
   ],
   "source": [
    "viz.attention_map(hyps[702], np.reshape(X_test[702],(1,20)), y_idx2word)"
   ]
  },
  {
   "cell_type": "code",
   "execution_count": 165,
   "metadata": {},
   "outputs": [
    {
     "name": "stderr",
     "output_type": "stream",
     "text": [
      "/usr/local/lib/python3.4/dist-packages/matplotlib/figure.py:418: UserWarning: matplotlib is currently using a non-GUI backend, so cannot show the figure\n",
      "  \"matplotlib is currently using a non-GUI backend, \"\n"
     ]
    },
    {
     "data": {
      "text/plain": [
       "<matplotlib.figure.Figure at 0x7fd9e77149e8>"
      ]
     },
     "metadata": {},
     "output_type": "display_data"
    },
    {
     "data": {
      "image/png": "[encoded data removed]",
      "text/plain": [
       "<matplotlib.figure.Figure at 0x7fd9e7719a20>"
      ]
     },
     "metadata": {},
     "output_type": "display_data"
    }
   ],
   "source": [
    "viz.attention_map(hyps[61], np.reshape(X_test[61],(1,20)), y_idx2word)"
   ]
  },
  {
   "cell_type": "code",
   "execution_count": 191,
   "metadata": {},
   "outputs": [
    {
     "name": "stderr",
     "output_type": "stream",
     "text": [
      "/usr/local/lib/python3.4/dist-packages/matplotlib/figure.py:418: UserWarning: matplotlib is currently using a non-GUI backend, so cannot show the figure\n",
      "  \"matplotlib is currently using a non-GUI backend, \"\n"
     ]
    },
    {
     "data": {
      "text/plain": [
       "<matplotlib.figure.Figure at 0x7fd9e7853e48>"
      ]
     },
     "metadata": {},
     "output_type": "display_data"
    },
    {
     "data": {
      "image/png": "[encoded data removed]",
      "text/plain": [
       "<matplotlib.figure.Figure at 0x7fd9e6b8bfd0>"
      ]
     },
     "metadata": {},
     "output_type": "display_data"
    }
   ],
   "source": [
    "viz.attention_map(hyps[63], np.reshape(X_test[63],(1,20)), y_idx2word)"
   ]
  },
  {
   "cell_type": "code",
   "execution_count": 195,
   "metadata": {},
   "outputs": [
    {
     "name": "stderr",
     "output_type": "stream",
     "text": [
      "/usr/local/lib/python3.4/dist-packages/matplotlib/figure.py:418: UserWarning: matplotlib is currently using a non-GUI backend, so cannot show the figure\n",
      "  \"matplotlib is currently using a non-GUI backend, \"\n"
     ]
    },
    {
     "data": {
      "text/plain": [
       "<matplotlib.figure.Figure at 0x7fd9e7136470>"
      ]
     },
     "metadata": {},
     "output_type": "display_data"
    },
    {
     "data": {
      "image/png": "[encoded data removed]",
      "text/plain": [
       "<matplotlib.figure.Figure at 0x7fd9e712d6d8>"
      ]
     },
     "metadata": {},
     "output_type": "display_data"
    }
   ],
   "source": [
    "viz.attention_map(hyps[99], np.reshape(X_test[99],(1,20)), y_idx2word)"
   ]
  },
  {
   "cell_type": "markdown",
   "metadata": {},
   "source": [
    "__Analysis:__\n",
    "In the random examples I chose a few where I thought the model was both good and bad. On a positive note the model at times does a good job capturing the main subject of the article as in example 4 below where it captures Boeing as the main subject. This is supported in that the weights for film and festive are of high importance. On a negative note the model clearly suffers from attachment issues as in example 2,3, and 5 where it captures for instance that the article is about the film festivial but it entirely fails to capture the subject Pixar. The weights in example 5 is a great example of the difficultly the model has with pronouns like names - assigning high weigh to them but classifying them as unknown. Repeat words are again an issue.\n"
   ]
  },
  {
   "cell_type": "code",
   "execution_count": 162,
   "metadata": {
    "scrolled": true
   },
   "outputs": [
    {
     "name": "stderr",
     "output_type": "stream",
     "text": [
      "/usr/local/lib/python3.4/dist-packages/matplotlib/figure.py:418: UserWarning: matplotlib is currently using a non-GUI backend, so cannot show the figure\n",
      "  \"matplotlib is currently using a non-GUI backend, \"\n"
     ]
    },
    {
     "data": {
      "text/plain": [
       "<matplotlib.figure.Figure at 0x7fd9e76bbba8>"
      ]
     },
     "metadata": {},
     "output_type": "display_data"
    },
    {
     "data": {
      "image/png": "[encoded data removed]",
      "text/plain": [
       "<matplotlib.figure.Figure at 0x7fd9e76bdf60>"
      ]
     },
     "metadata": {},
     "output_type": "display_data"
    }
   ],
   "source": [
    "viz.attention_map(hyps[46], np.reshape(X_test[46],(1,20)), y_idx2word)"
   ]
  },
  {
   "cell_type": "code",
   "execution_count": 294,
   "metadata": {},
   "outputs": [
    {
     "name": "stdout",
     "output_type": "stream",
     "text": [
      "Input: the greatest day of the l.a. college football season was n't a saturday .\n",
      "Gold: best day for l.a. football is sunday\n",
      "Attn: football football college college college college of the players\n"
     ]
    }
   ],
   "source": [
    "i = 819\n",
    "attn = make_predictions(model, X_test[i].reshape(1,20), y_idx2word, save=False, print_results=False, prnt_num=1)\n",
    "Inp = to_strings(load_file(test_articles))\n",
    "\n",
    "print(\"Input:\", Inp[i])\n",
    "print(\"Gold:\", hyps[i])\n",
    "print(\"Plain:\", pred2[i])\n",
    "print(\"Attn:\", attn[0])"
   ]
  },
  {
   "cell_type": "markdown",
   "metadata": {},
   "source": [
    "## Table of Examples"
   ]
  },
  {
   "cell_type": "markdown",
   "metadata": {},
   "source": [
    "__Input(1):__ share prices on the london stock exchange were lower at midday thursday.<br />\n",
    "__Gold:__ london share prices down at midday <br />\n",
    "__Plain:__ london share share prices lower at midday<br />\n",
    "__Attn:__ london london london london london share prices lower at midday<br />\n",
    "<br />\n",
    "__Input(2):__ jason patric did n't take hollywood 's big-budget blockbuster star trip .<br /> \n",
    "__Gold:__ speed # could accelerate patric 's career <br />\n",
    "__Plain:__ tom 's 's and has has is talking a exaggerated<br />\n",
    "__Attn:__ star in UNK UNK to in big big big big big series<br />\n",
    "<br />\n",
    "__Input(3):__ valencia has signed newcastle midfielder hugo viana on a season 's loan.<br />\n",
    "__Gold:__ valencia signs viana on loan <br />\n",
    "__Plain:__ valencia signs unk unk on on on deal <br />\n",
    "__Attn:__ UNK valencia valencia signs signs valencia loan loan loan <br />\n",
    "<br />\n",
    "__Input(4):__ with lennox lewis gone , it 's suddenly a good time to be a heavyweight . <br />\n",
    "__Gold:__ with lewis retirement suddenly it 's heavyweight season <br />\n",
    "__Plain:__ it 's n't n't be sanchez knows be for for his time <br />\n",
    "__Attn:__ boxing lewis for for Tyson <br />\n",
    "<br />\n",
    "__Input(5):__ a huge explosion has rocked pakistan 's main northwest city of peshawar .<br /> \n",
    "__Gold:__ huge explosion rocks pakistan s peshawar city <br />\n",
    "__Plain:__ hits hits new air wave s s s city <br />\n",
    "__Attn:__ explosion explosion explosion rocks rocks in in pakistan pakistan <br />"
   ]
  }
 ],
 "metadata": {
  "kernelspec": {
   "display_name": "DL_tf",
   "language": "python",
   "name": "dl_tf"
  },
  "language_info": {
   "codemirror_mode": {
    "name": "ipython",
    "version": 3
   },
   "file_extension": ".py",
   "mimetype": "text/x-python",
   "name": "python",
   "nbconvert_exporter": "python",
   "pygments_lexer": "ipython3",
   "version": "3.6.2"
  }
 },
 "nbformat": 4,
 "nbformat_minor": 2
}
